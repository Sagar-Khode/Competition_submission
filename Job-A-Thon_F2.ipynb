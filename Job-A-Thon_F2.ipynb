{
 "cells": [
  {
   "cell_type": "markdown",
   "id": "a7e441b5",
   "metadata": {},
   "source": [
    "#### Smart Lead Scoring Engine\n",
    "\n",
    "\n",
    "#### Can you identify the potential leads for a D2C startup?\n",
    "\n",
    "\n",
    "\n",
    "\n",
    "### Problem Statement\n",
    "\n",
    "\n",
    "A D2C startup develops products using cutting edge technologies like Web 3.0. Over the past few months, the company has started multiple marketing campaigns offline and digital both. As a result, the users have started showing interest in the product on the website. These users with intent to buy product(s) are generally known as leads (Potential Customers). \n",
    "\n",
    "\n",
    "Leads are captured in 2 ways - Directly and Indirectly. \n",
    "\n",
    "\n",
    "Direct leads are captured via forms embedded in the website while indirect leads are captured based on certain activity of a user on the platform such as time spent on the website, number of user sessions, etc.\n",
    "\n",
    "\n",
    "Now, the marketing & sales team wants to identify the leads who are more likely to buy the product so that the sales team can manage their bandwidth efficiently by targeting these potential leads and increase the sales in a shorter span of time.\n",
    "\n",
    "\n",
    "Now, as a data scientist, your task at hand is to predict the propensity to buy a product based on the user's past activities and user level information.\n",
    "\n",
    "\n",
    "\n",
    "About Dataset\n",
    "\n",
    "\n",
    "You are provided with the leads data of last year containing both direct and indirect leads. Each lead provides information about their activity on the platform, signup information and campaign information. Based on his past activity on the platform, you need to build the predictive model to classify if the user would buy the product in the next 3 months or not.\n",
    "\n",
    "a).train.csv contains the leads information of last 1 year from Jan 2021 to Dec 2021. And also the target variable indicating if the user will buy the product in next 3 months or not \n",
    "\n",
    "b).test.csv contains the leads information of the current year from Jan 2022 to March 2022. You need to predict if the lead will buy the product in next 3 months or not.\n",
    "\n",
    "c). sample_submission.csv contains 2 variables "
   ]
  },
  {
   "cell_type": "markdown",
   "id": "9cdf127a",
   "metadata": {},
   "source": [
    "### Problem type :-\n",
    "\n",
    "#### It's a Binary classification problem, Because target / Dependent feature only have 0's and 1's ."
   ]
  },
  {
   "cell_type": "code",
   "execution_count": 3,
   "id": "d39600cf",
   "metadata": {},
   "outputs": [],
   "source": [
    "# Importing Basic Libraries.\n",
    "import pandas as pd\n",
    "import datetime\n",
    "import numpy as np\n",
    "import seaborn as sns\n",
    "from sklearn.metrics import f1_score\n",
    "import warnings\n",
    "warnings.filterwarnings(\"ignore\")"
   ]
  },
  {
   "cell_type": "code",
   "execution_count": 4,
   "id": "7c60c4d4",
   "metadata": {},
   "outputs": [],
   "source": [
    "# Reading Data file's.\n",
    "Train = pd.read_csv(\"train_wn75k28.csv\")\n",
    "Test = pd.read_csv(\"test_Wf7sxXF.csv\")\n",
    "Submission = pd.read_csv(\"sample_submission_2zvVjBu.csv\")"
   ]
  },
  {
   "cell_type": "code",
   "execution_count": 3,
   "id": "8d1b2d9d",
   "metadata": {
    "scrolled": true
   },
   "outputs": [
    {
     "data": {
      "text/html": [
       "<div>\n",
       "<style scoped>\n",
       "    .dataframe tbody tr th:only-of-type {\n",
       "        vertical-align: middle;\n",
       "    }\n",
       "\n",
       "    .dataframe tbody tr th {\n",
       "        vertical-align: top;\n",
       "    }\n",
       "\n",
       "    .dataframe thead th {\n",
       "        text-align: right;\n",
       "    }\n",
       "</style>\n",
       "<table border=\"1\" class=\"dataframe\">\n",
       "  <thead>\n",
       "    <tr style=\"text-align: right;\">\n",
       "      <th></th>\n",
       "      <th>id</th>\n",
       "      <th>created_at</th>\n",
       "      <th>campaign_var_1</th>\n",
       "      <th>campaign_var_2</th>\n",
       "      <th>products_purchased</th>\n",
       "      <th>signup_date</th>\n",
       "      <th>user_activity_var_1</th>\n",
       "      <th>user_activity_var_2</th>\n",
       "      <th>user_activity_var_3</th>\n",
       "      <th>user_activity_var_4</th>\n",
       "      <th>user_activity_var_5</th>\n",
       "      <th>user_activity_var_6</th>\n",
       "      <th>user_activity_var_7</th>\n",
       "      <th>user_activity_var_8</th>\n",
       "      <th>user_activity_var_9</th>\n",
       "      <th>user_activity_var_10</th>\n",
       "      <th>user_activity_var_11</th>\n",
       "      <th>user_activity_var_12</th>\n",
       "      <th>buy</th>\n",
       "    </tr>\n",
       "  </thead>\n",
       "  <tbody>\n",
       "    <tr>\n",
       "      <th>0</th>\n",
       "      <td>1</td>\n",
       "      <td>2021-01-01</td>\n",
       "      <td>1</td>\n",
       "      <td>2</td>\n",
       "      <td>2.0</td>\n",
       "      <td>2020-09-24</td>\n",
       "      <td>0</td>\n",
       "      <td>0</td>\n",
       "      <td>0</td>\n",
       "      <td>0</td>\n",
       "      <td>0</td>\n",
       "      <td>0</td>\n",
       "      <td>1</td>\n",
       "      <td>1</td>\n",
       "      <td>0</td>\n",
       "      <td>0</td>\n",
       "      <td>0</td>\n",
       "      <td>0</td>\n",
       "      <td>0</td>\n",
       "    </tr>\n",
       "    <tr>\n",
       "      <th>1</th>\n",
       "      <td>2</td>\n",
       "      <td>2021-01-01</td>\n",
       "      <td>2</td>\n",
       "      <td>1</td>\n",
       "      <td>2.0</td>\n",
       "      <td>2020-09-19</td>\n",
       "      <td>1</td>\n",
       "      <td>0</td>\n",
       "      <td>1</td>\n",
       "      <td>0</td>\n",
       "      <td>0</td>\n",
       "      <td>0</td>\n",
       "      <td>1</td>\n",
       "      <td>0</td>\n",
       "      <td>0</td>\n",
       "      <td>0</td>\n",
       "      <td>0</td>\n",
       "      <td>0</td>\n",
       "      <td>0</td>\n",
       "    </tr>\n",
       "    <tr>\n",
       "      <th>2</th>\n",
       "      <td>3</td>\n",
       "      <td>2021-01-01</td>\n",
       "      <td>9</td>\n",
       "      <td>3</td>\n",
       "      <td>3.0</td>\n",
       "      <td>2021-08-11</td>\n",
       "      <td>1</td>\n",
       "      <td>0</td>\n",
       "      <td>0</td>\n",
       "      <td>0</td>\n",
       "      <td>0</td>\n",
       "      <td>0</td>\n",
       "      <td>0</td>\n",
       "      <td>0</td>\n",
       "      <td>0</td>\n",
       "      <td>0</td>\n",
       "      <td>0</td>\n",
       "      <td>0</td>\n",
       "      <td>0</td>\n",
       "    </tr>\n",
       "    <tr>\n",
       "      <th>3</th>\n",
       "      <td>4</td>\n",
       "      <td>2021-01-01</td>\n",
       "      <td>6</td>\n",
       "      <td>7</td>\n",
       "      <td>2.0</td>\n",
       "      <td>2017-10-04</td>\n",
       "      <td>0</td>\n",
       "      <td>0</td>\n",
       "      <td>0</td>\n",
       "      <td>0</td>\n",
       "      <td>0</td>\n",
       "      <td>0</td>\n",
       "      <td>0</td>\n",
       "      <td>0</td>\n",
       "      <td>0</td>\n",
       "      <td>0</td>\n",
       "      <td>0</td>\n",
       "      <td>0</td>\n",
       "      <td>0</td>\n",
       "    </tr>\n",
       "    <tr>\n",
       "      <th>4</th>\n",
       "      <td>5</td>\n",
       "      <td>2021-01-01</td>\n",
       "      <td>4</td>\n",
       "      <td>6</td>\n",
       "      <td>NaN</td>\n",
       "      <td>2020-06-08</td>\n",
       "      <td>0</td>\n",
       "      <td>0</td>\n",
       "      <td>0</td>\n",
       "      <td>0</td>\n",
       "      <td>0</td>\n",
       "      <td>0</td>\n",
       "      <td>1</td>\n",
       "      <td>0</td>\n",
       "      <td>0</td>\n",
       "      <td>0</td>\n",
       "      <td>1</td>\n",
       "      <td>0</td>\n",
       "      <td>0</td>\n",
       "    </tr>\n",
       "  </tbody>\n",
       "</table>\n",
       "</div>"
      ],
      "text/plain": [
       "   id  created_at  campaign_var_1  campaign_var_2  products_purchased  \\\n",
       "0   1  2021-01-01               1               2                 2.0   \n",
       "1   2  2021-01-01               2               1                 2.0   \n",
       "2   3  2021-01-01               9               3                 3.0   \n",
       "3   4  2021-01-01               6               7                 2.0   \n",
       "4   5  2021-01-01               4               6                 NaN   \n",
       "\n",
       "  signup_date  user_activity_var_1  user_activity_var_2  user_activity_var_3  \\\n",
       "0  2020-09-24                    0                    0                    0   \n",
       "1  2020-09-19                    1                    0                    1   \n",
       "2  2021-08-11                    1                    0                    0   \n",
       "3  2017-10-04                    0                    0                    0   \n",
       "4  2020-06-08                    0                    0                    0   \n",
       "\n",
       "   user_activity_var_4  user_activity_var_5  user_activity_var_6  \\\n",
       "0                    0                    0                    0   \n",
       "1                    0                    0                    0   \n",
       "2                    0                    0                    0   \n",
       "3                    0                    0                    0   \n",
       "4                    0                    0                    0   \n",
       "\n",
       "   user_activity_var_7  user_activity_var_8  user_activity_var_9  \\\n",
       "0                    1                    1                    0   \n",
       "1                    1                    0                    0   \n",
       "2                    0                    0                    0   \n",
       "3                    0                    0                    0   \n",
       "4                    1                    0                    0   \n",
       "\n",
       "   user_activity_var_10  user_activity_var_11  user_activity_var_12  buy  \n",
       "0                     0                     0                     0    0  \n",
       "1                     0                     0                     0    0  \n",
       "2                     0                     0                     0    0  \n",
       "3                     0                     0                     0    0  \n",
       "4                     0                     1                     0    0  "
      ]
     },
     "execution_count": 3,
     "metadata": {},
     "output_type": "execute_result"
    }
   ],
   "source": [
    "# Showing top 5 row's of Train Data.\n",
    "Train.head(5)"
   ]
  },
  {
   "cell_type": "code",
   "execution_count": 4,
   "id": "0d584bbb",
   "metadata": {},
   "outputs": [
    {
     "data": {
      "text/html": [
       "<div>\n",
       "<style scoped>\n",
       "    .dataframe tbody tr th:only-of-type {\n",
       "        vertical-align: middle;\n",
       "    }\n",
       "\n",
       "    .dataframe tbody tr th {\n",
       "        vertical-align: top;\n",
       "    }\n",
       "\n",
       "    .dataframe thead th {\n",
       "        text-align: right;\n",
       "    }\n",
       "</style>\n",
       "<table border=\"1\" class=\"dataframe\">\n",
       "  <thead>\n",
       "    <tr style=\"text-align: right;\">\n",
       "      <th></th>\n",
       "      <th>id</th>\n",
       "      <th>created_at</th>\n",
       "      <th>campaign_var_1</th>\n",
       "      <th>campaign_var_2</th>\n",
       "      <th>products_purchased</th>\n",
       "      <th>signup_date</th>\n",
       "      <th>user_activity_var_1</th>\n",
       "      <th>user_activity_var_2</th>\n",
       "      <th>user_activity_var_3</th>\n",
       "      <th>user_activity_var_4</th>\n",
       "      <th>user_activity_var_5</th>\n",
       "      <th>user_activity_var_6</th>\n",
       "      <th>user_activity_var_7</th>\n",
       "      <th>user_activity_var_8</th>\n",
       "      <th>user_activity_var_9</th>\n",
       "      <th>user_activity_var_10</th>\n",
       "      <th>user_activity_var_11</th>\n",
       "      <th>user_activity_var_12</th>\n",
       "      <th>buy</th>\n",
       "    </tr>\n",
       "  </thead>\n",
       "  <tbody>\n",
       "    <tr>\n",
       "      <th>39156</th>\n",
       "      <td>39157</td>\n",
       "      <td>2021-12-31</td>\n",
       "      <td>11</td>\n",
       "      <td>11</td>\n",
       "      <td>2.0</td>\n",
       "      <td>2017-10-19</td>\n",
       "      <td>1</td>\n",
       "      <td>0</td>\n",
       "      <td>0</td>\n",
       "      <td>0</td>\n",
       "      <td>1</td>\n",
       "      <td>1</td>\n",
       "      <td>1</td>\n",
       "      <td>0</td>\n",
       "      <td>0</td>\n",
       "      <td>0</td>\n",
       "      <td>0</td>\n",
       "      <td>0</td>\n",
       "      <td>0</td>\n",
       "    </tr>\n",
       "    <tr>\n",
       "      <th>39157</th>\n",
       "      <td>39158</td>\n",
       "      <td>2021-12-31</td>\n",
       "      <td>3</td>\n",
       "      <td>9</td>\n",
       "      <td>3.0</td>\n",
       "      <td>NaN</td>\n",
       "      <td>0</td>\n",
       "      <td>0</td>\n",
       "      <td>0</td>\n",
       "      <td>0</td>\n",
       "      <td>0</td>\n",
       "      <td>0</td>\n",
       "      <td>0</td>\n",
       "      <td>0</td>\n",
       "      <td>0</td>\n",
       "      <td>0</td>\n",
       "      <td>0</td>\n",
       "      <td>0</td>\n",
       "      <td>0</td>\n",
       "    </tr>\n",
       "    <tr>\n",
       "      <th>39158</th>\n",
       "      <td>39159</td>\n",
       "      <td>2021-12-31</td>\n",
       "      <td>8</td>\n",
       "      <td>7</td>\n",
       "      <td>2.0</td>\n",
       "      <td>NaN</td>\n",
       "      <td>1</td>\n",
       "      <td>0</td>\n",
       "      <td>0</td>\n",
       "      <td>0</td>\n",
       "      <td>1</td>\n",
       "      <td>0</td>\n",
       "      <td>1</td>\n",
       "      <td>0</td>\n",
       "      <td>0</td>\n",
       "      <td>0</td>\n",
       "      <td>0</td>\n",
       "      <td>0</td>\n",
       "      <td>0</td>\n",
       "    </tr>\n",
       "    <tr>\n",
       "      <th>39159</th>\n",
       "      <td>39160</td>\n",
       "      <td>2021-12-31</td>\n",
       "      <td>7</td>\n",
       "      <td>12</td>\n",
       "      <td>2.0</td>\n",
       "      <td>NaN</td>\n",
       "      <td>0</td>\n",
       "      <td>0</td>\n",
       "      <td>0</td>\n",
       "      <td>0</td>\n",
       "      <td>0</td>\n",
       "      <td>1</td>\n",
       "      <td>0</td>\n",
       "      <td>0</td>\n",
       "      <td>0</td>\n",
       "      <td>0</td>\n",
       "      <td>1</td>\n",
       "      <td>0</td>\n",
       "      <td>0</td>\n",
       "    </tr>\n",
       "    <tr>\n",
       "      <th>39160</th>\n",
       "      <td>39161</td>\n",
       "      <td>2021-12-31</td>\n",
       "      <td>2</td>\n",
       "      <td>5</td>\n",
       "      <td>NaN</td>\n",
       "      <td>2019-08-11</td>\n",
       "      <td>1</td>\n",
       "      <td>0</td>\n",
       "      <td>0</td>\n",
       "      <td>0</td>\n",
       "      <td>0</td>\n",
       "      <td>0</td>\n",
       "      <td>1</td>\n",
       "      <td>0</td>\n",
       "      <td>0</td>\n",
       "      <td>0</td>\n",
       "      <td>0</td>\n",
       "      <td>0</td>\n",
       "      <td>0</td>\n",
       "    </tr>\n",
       "  </tbody>\n",
       "</table>\n",
       "</div>"
      ],
      "text/plain": [
       "          id  created_at  campaign_var_1  campaign_var_2  products_purchased  \\\n",
       "39156  39157  2021-12-31              11              11                 2.0   \n",
       "39157  39158  2021-12-31               3               9                 3.0   \n",
       "39158  39159  2021-12-31               8               7                 2.0   \n",
       "39159  39160  2021-12-31               7              12                 2.0   \n",
       "39160  39161  2021-12-31               2               5                 NaN   \n",
       "\n",
       "      signup_date  user_activity_var_1  user_activity_var_2  \\\n",
       "39156  2017-10-19                    1                    0   \n",
       "39157         NaN                    0                    0   \n",
       "39158         NaN                    1                    0   \n",
       "39159         NaN                    0                    0   \n",
       "39160  2019-08-11                    1                    0   \n",
       "\n",
       "       user_activity_var_3  user_activity_var_4  user_activity_var_5  \\\n",
       "39156                    0                    0                    1   \n",
       "39157                    0                    0                    0   \n",
       "39158                    0                    0                    1   \n",
       "39159                    0                    0                    0   \n",
       "39160                    0                    0                    0   \n",
       "\n",
       "       user_activity_var_6  user_activity_var_7  user_activity_var_8  \\\n",
       "39156                    1                    1                    0   \n",
       "39157                    0                    0                    0   \n",
       "39158                    0                    1                    0   \n",
       "39159                    1                    0                    0   \n",
       "39160                    0                    1                    0   \n",
       "\n",
       "       user_activity_var_9  user_activity_var_10  user_activity_var_11  \\\n",
       "39156                    0                     0                     0   \n",
       "39157                    0                     0                     0   \n",
       "39158                    0                     0                     0   \n",
       "39159                    0                     0                     1   \n",
       "39160                    0                     0                     0   \n",
       "\n",
       "       user_activity_var_12  buy  \n",
       "39156                     0    0  \n",
       "39157                     0    0  \n",
       "39158                     0    0  \n",
       "39159                     0    0  \n",
       "39160                     0    0  "
      ]
     },
     "execution_count": 4,
     "metadata": {},
     "output_type": "execute_result"
    }
   ],
   "source": [
    "# Showing down 5 row's of Train Data.\n",
    "Train.tail(5)"
   ]
  },
  {
   "cell_type": "markdown",
   "id": "845ce188",
   "metadata": {},
   "source": [
    "## Above Signup_date is not important because there is no pattern between lead up and signup, many user created or Sign up on the website and kept long term no activity. So, we will drop signup_date column"
   ]
  },
  {
   "cell_type": "code",
   "execution_count": 5,
   "id": "d5c54a05",
   "metadata": {},
   "outputs": [
    {
     "data": {
      "text/plain": [
       "0    37163\n",
       "1     1998\n",
       "Name: buy, dtype: int64"
      ]
     },
     "execution_count": 5,
     "metadata": {},
     "output_type": "execute_result"
    }
   ],
   "source": [
    "# Showing count's of Train Data \"buy\" feature.\n",
    "Train.buy.value_counts()"
   ]
  },
  {
   "cell_type": "code",
   "execution_count": 6,
   "id": "9eb64893",
   "metadata": {},
   "outputs": [
    {
     "data": {
      "text/plain": [
       "<AxesSubplot:xlabel='buy', ylabel='count'>"
      ]
     },
     "execution_count": 6,
     "metadata": {},
     "output_type": "execute_result"
    },
    {
     "data": {
      "image/png": "[encoded data removed]",
      "text/plain": [
       "<Figure size 432x288 with 1 Axes>"
      ]
     },
     "metadata": {
      "needs_background": "light"
     },
     "output_type": "display_data"
    }
   ],
   "source": [
    "# Plotting above count's of \"buy\" column\n",
    "sns.countplot(data=Train, x='buy', order=Train.buy.value_counts().index)"
   ]
  },
  {
   "cell_type": "markdown",
   "id": "1b81adaf",
   "metadata": {},
   "source": [
    "#### Dependent Features are imbalanced, but F1 Score will deal with this abnormality."
   ]
  },
  {
   "cell_type": "code",
   "execution_count": 7,
   "id": "e147337a",
   "metadata": {},
   "outputs": [
    {
     "data": {
      "text/plain": [
       "2.0    8867\n",
       "3.0    5024\n",
       "1.0    3643\n",
       "4.0     716\n",
       "Name: products_purchased, dtype: int64"
      ]
     },
     "execution_count": 7,
     "metadata": {},
     "output_type": "execute_result"
    }
   ],
   "source": [
    "# Showing count's of \"products_purchased\" of Train Data.\n",
    "Train.products_purchased.value_counts()"
   ]
  },
  {
   "cell_type": "code",
   "execution_count": 8,
   "id": "0a46e010",
   "metadata": {},
   "outputs": [
    {
     "data": {
      "text/plain": [
       "20911"
      ]
     },
     "execution_count": 8,
     "metadata": {},
     "output_type": "execute_result"
    }
   ],
   "source": [
    "# Showing null value's in \"products_purchased\" column.\n",
    "Train.products_purchased.isna().sum()"
   ]
  },
  {
   "cell_type": "code",
   "execution_count": 9,
   "id": "680ef326",
   "metadata": {},
   "outputs": [],
   "source": [
    "# Filling null value's with median(mean and mode will be same for this column).\n",
    "Train['products_purchased'].fillna(Train['products_purchased'].median(), inplace=True)"
   ]
  },
  {
   "cell_type": "code",
   "execution_count": 10,
   "id": "ef585b38",
   "metadata": {},
   "outputs": [],
   "source": [
    "Train['products_purchased'] = Train['products_purchased'].astype(int)"
   ]
  },
  {
   "cell_type": "code",
   "execution_count": 11,
   "id": "3bfeb13b",
   "metadata": {},
   "outputs": [
    {
     "data": {
      "text/plain": [
       "0"
      ]
     },
     "execution_count": 11,
     "metadata": {},
     "output_type": "execute_result"
    }
   ],
   "source": [
    "# Displaying null value which are 0 now , we filled with integer median value. \n",
    "Train.products_purchased.isna().sum()"
   ]
  },
  {
   "cell_type": "markdown",
   "id": "74f86e9c",
   "metadata": {},
   "source": [
    "#### Above filled nan values in products_purchase with median value of column"
   ]
  },
  {
   "cell_type": "code",
   "execution_count": 12,
   "id": "b163199e",
   "metadata": {},
   "outputs": [
    {
     "data": {
      "text/plain": [
       "id                          0\n",
       "created_at                  0\n",
       "campaign_var_1              0\n",
       "campaign_var_2              0\n",
       "products_purchased          0\n",
       "signup_date             15113\n",
       "user_activity_var_1         0\n",
       "user_activity_var_2         0\n",
       "user_activity_var_3         0\n",
       "user_activity_var_4         0\n",
       "user_activity_var_5         0\n",
       "user_activity_var_6         0\n",
       "user_activity_var_7         0\n",
       "user_activity_var_8         0\n",
       "user_activity_var_9         0\n",
       "user_activity_var_10        0\n",
       "user_activity_var_11        0\n",
       "user_activity_var_12        0\n",
       "buy                         0\n",
       "dtype: int64"
      ]
     },
     "execution_count": 12,
     "metadata": {},
     "output_type": "execute_result"
    }
   ],
   "source": [
    "# Displaying null value's in complete Train dataset\n",
    "# \"signup_date\" column having null value, even we dont require it because they dont have relation with lead creation date.\n",
    "Train.isna().sum()"
   ]
  },
  {
   "cell_type": "code",
   "execution_count": 13,
   "id": "270f8aab",
   "metadata": {},
   "outputs": [],
   "source": [
    "Train[\"Week_of_Year\"] = pd.DatetimeIndex(Train['created_at']).strftime('%U').astype(int)\n",
    "Train[\"Day_Number\"] = pd.DatetimeIndex(Train['created_at']).dayofweek\n",
    "Train[\"Month_Number\"] = pd.DatetimeIndex(Train['created_at']).month\n",
    "Train[\"Day_Of_Year\"] = pd.DatetimeIndex(Train['created_at']).dayofyear\n",
    "Train[\"Days_In_Month\"] = pd.DatetimeIndex(Train['created_at']).days_in_month"
   ]
  },
  {
   "cell_type": "markdown",
   "id": "bf69dbe9",
   "metadata": {},
   "source": [
    "#### Created New column's based on created_at column date , which help us to find buy status because february has 28/29 days some months has 30/31 days. So, this is also a pattern which algorithms can learn."
   ]
  },
  {
   "cell_type": "code",
   "execution_count": 14,
   "id": "02c91339",
   "metadata": {},
   "outputs": [
    {
     "data": {
      "text/html": [
       "<div>\n",
       "<style scoped>\n",
       "    .dataframe tbody tr th:only-of-type {\n",
       "        vertical-align: middle;\n",
       "    }\n",
       "\n",
       "    .dataframe tbody tr th {\n",
       "        vertical-align: top;\n",
       "    }\n",
       "\n",
       "    .dataframe thead th {\n",
       "        text-align: right;\n",
       "    }\n",
       "</style>\n",
       "<table border=\"1\" class=\"dataframe\">\n",
       "  <thead>\n",
       "    <tr style=\"text-align: right;\">\n",
       "      <th></th>\n",
       "      <th>id</th>\n",
       "      <th>created_at</th>\n",
       "      <th>campaign_var_1</th>\n",
       "      <th>campaign_var_2</th>\n",
       "      <th>products_purchased</th>\n",
       "      <th>signup_date</th>\n",
       "      <th>user_activity_var_1</th>\n",
       "      <th>user_activity_var_2</th>\n",
       "      <th>user_activity_var_3</th>\n",
       "      <th>user_activity_var_4</th>\n",
       "      <th>...</th>\n",
       "      <th>user_activity_var_9</th>\n",
       "      <th>user_activity_var_10</th>\n",
       "      <th>user_activity_var_11</th>\n",
       "      <th>user_activity_var_12</th>\n",
       "      <th>buy</th>\n",
       "      <th>Week_of_Year</th>\n",
       "      <th>Day_Number</th>\n",
       "      <th>Month_Number</th>\n",
       "      <th>Day_Of_Year</th>\n",
       "      <th>Days_In_Month</th>\n",
       "    </tr>\n",
       "  </thead>\n",
       "  <tbody>\n",
       "    <tr>\n",
       "      <th>39156</th>\n",
       "      <td>39157</td>\n",
       "      <td>2021-12-31</td>\n",
       "      <td>11</td>\n",
       "      <td>11</td>\n",
       "      <td>2</td>\n",
       "      <td>2017-10-19</td>\n",
       "      <td>1</td>\n",
       "      <td>0</td>\n",
       "      <td>0</td>\n",
       "      <td>0</td>\n",
       "      <td>...</td>\n",
       "      <td>0</td>\n",
       "      <td>0</td>\n",
       "      <td>0</td>\n",
       "      <td>0</td>\n",
       "      <td>0</td>\n",
       "      <td>52</td>\n",
       "      <td>4</td>\n",
       "      <td>12</td>\n",
       "      <td>365</td>\n",
       "      <td>31</td>\n",
       "    </tr>\n",
       "    <tr>\n",
       "      <th>39157</th>\n",
       "      <td>39158</td>\n",
       "      <td>2021-12-31</td>\n",
       "      <td>3</td>\n",
       "      <td>9</td>\n",
       "      <td>3</td>\n",
       "      <td>NaN</td>\n",
       "      <td>0</td>\n",
       "      <td>0</td>\n",
       "      <td>0</td>\n",
       "      <td>0</td>\n",
       "      <td>...</td>\n",
       "      <td>0</td>\n",
       "      <td>0</td>\n",
       "      <td>0</td>\n",
       "      <td>0</td>\n",
       "      <td>0</td>\n",
       "      <td>52</td>\n",
       "      <td>4</td>\n",
       "      <td>12</td>\n",
       "      <td>365</td>\n",
       "      <td>31</td>\n",
       "    </tr>\n",
       "    <tr>\n",
       "      <th>39158</th>\n",
       "      <td>39159</td>\n",
       "      <td>2021-12-31</td>\n",
       "      <td>8</td>\n",
       "      <td>7</td>\n",
       "      <td>2</td>\n",
       "      <td>NaN</td>\n",
       "      <td>1</td>\n",
       "      <td>0</td>\n",
       "      <td>0</td>\n",
       "      <td>0</td>\n",
       "      <td>...</td>\n",
       "      <td>0</td>\n",
       "      <td>0</td>\n",
       "      <td>0</td>\n",
       "      <td>0</td>\n",
       "      <td>0</td>\n",
       "      <td>52</td>\n",
       "      <td>4</td>\n",
       "      <td>12</td>\n",
       "      <td>365</td>\n",
       "      <td>31</td>\n",
       "    </tr>\n",
       "    <tr>\n",
       "      <th>39159</th>\n",
       "      <td>39160</td>\n",
       "      <td>2021-12-31</td>\n",
       "      <td>7</td>\n",
       "      <td>12</td>\n",
       "      <td>2</td>\n",
       "      <td>NaN</td>\n",
       "      <td>0</td>\n",
       "      <td>0</td>\n",
       "      <td>0</td>\n",
       "      <td>0</td>\n",
       "      <td>...</td>\n",
       "      <td>0</td>\n",
       "      <td>0</td>\n",
       "      <td>1</td>\n",
       "      <td>0</td>\n",
       "      <td>0</td>\n",
       "      <td>52</td>\n",
       "      <td>4</td>\n",
       "      <td>12</td>\n",
       "      <td>365</td>\n",
       "      <td>31</td>\n",
       "    </tr>\n",
       "    <tr>\n",
       "      <th>39160</th>\n",
       "      <td>39161</td>\n",
       "      <td>2021-12-31</td>\n",
       "      <td>2</td>\n",
       "      <td>5</td>\n",
       "      <td>2</td>\n",
       "      <td>2019-08-11</td>\n",
       "      <td>1</td>\n",
       "      <td>0</td>\n",
       "      <td>0</td>\n",
       "      <td>0</td>\n",
       "      <td>...</td>\n",
       "      <td>0</td>\n",
       "      <td>0</td>\n",
       "      <td>0</td>\n",
       "      <td>0</td>\n",
       "      <td>0</td>\n",
       "      <td>52</td>\n",
       "      <td>4</td>\n",
       "      <td>12</td>\n",
       "      <td>365</td>\n",
       "      <td>31</td>\n",
       "    </tr>\n",
       "  </tbody>\n",
       "</table>\n",
       "<p>5 rows × 24 columns</p>\n",
       "</div>"
      ],
      "text/plain": [
       "          id  created_at  campaign_var_1  campaign_var_2  products_purchased  \\\n",
       "39156  39157  2021-12-31              11              11                   2   \n",
       "39157  39158  2021-12-31               3               9                   3   \n",
       "39158  39159  2021-12-31               8               7                   2   \n",
       "39159  39160  2021-12-31               7              12                   2   \n",
       "39160  39161  2021-12-31               2               5                   2   \n",
       "\n",
       "      signup_date  user_activity_var_1  user_activity_var_2  \\\n",
       "39156  2017-10-19                    1                    0   \n",
       "39157         NaN                    0                    0   \n",
       "39158         NaN                    1                    0   \n",
       "39159         NaN                    0                    0   \n",
       "39160  2019-08-11                    1                    0   \n",
       "\n",
       "       user_activity_var_3  user_activity_var_4  ...  user_activity_var_9  \\\n",
       "39156                    0                    0  ...                    0   \n",
       "39157                    0                    0  ...                    0   \n",
       "39158                    0                    0  ...                    0   \n",
       "39159                    0                    0  ...                    0   \n",
       "39160                    0                    0  ...                    0   \n",
       "\n",
       "       user_activity_var_10  user_activity_var_11  user_activity_var_12  buy  \\\n",
       "39156                     0                     0                     0    0   \n",
       "39157                     0                     0                     0    0   \n",
       "39158                     0                     0                     0    0   \n",
       "39159                     0                     1                     0    0   \n",
       "39160                     0                     0                     0    0   \n",
       "\n",
       "       Week_of_Year  Day_Number  Month_Number  Day_Of_Year  Days_In_Month  \n",
       "39156            52           4            12          365             31  \n",
       "39157            52           4            12          365             31  \n",
       "39158            52           4            12          365             31  \n",
       "39159            52           4            12          365             31  \n",
       "39160            52           4            12          365             31  \n",
       "\n",
       "[5 rows x 24 columns]"
      ]
     },
     "execution_count": 14,
     "metadata": {},
     "output_type": "execute_result"
    }
   ],
   "source": [
    "Train.tail(5)"
   ]
  },
  {
   "cell_type": "code",
   "execution_count": 15,
   "id": "6bb26dc6",
   "metadata": {},
   "outputs": [
    {
     "data": {
      "text/html": [
       "<div>\n",
       "<style scoped>\n",
       "    .dataframe tbody tr th:only-of-type {\n",
       "        vertical-align: middle;\n",
       "    }\n",
       "\n",
       "    .dataframe tbody tr th {\n",
       "        vertical-align: top;\n",
       "    }\n",
       "\n",
       "    .dataframe thead th {\n",
       "        text-align: right;\n",
       "    }\n",
       "</style>\n",
       "<table border=\"1\" class=\"dataframe\">\n",
       "  <thead>\n",
       "    <tr style=\"text-align: right;\">\n",
       "      <th></th>\n",
       "      <th>Week_of_Year</th>\n",
       "      <th>Day_Number</th>\n",
       "      <th>Month_Number</th>\n",
       "      <th>Day_Of_Year</th>\n",
       "      <th>Days_In_Month</th>\n",
       "      <th>campaign_var_1</th>\n",
       "      <th>campaign_var_2</th>\n",
       "      <th>products_purchased</th>\n",
       "      <th>user_activity_var_1</th>\n",
       "      <th>user_activity_var_2</th>\n",
       "      <th>...</th>\n",
       "      <th>user_activity_var_4</th>\n",
       "      <th>user_activity_var_5</th>\n",
       "      <th>user_activity_var_6</th>\n",
       "      <th>user_activity_var_7</th>\n",
       "      <th>user_activity_var_8</th>\n",
       "      <th>user_activity_var_9</th>\n",
       "      <th>user_activity_var_10</th>\n",
       "      <th>user_activity_var_11</th>\n",
       "      <th>user_activity_var_12</th>\n",
       "      <th>buy</th>\n",
       "    </tr>\n",
       "  </thead>\n",
       "  <tbody>\n",
       "    <tr>\n",
       "      <th>0</th>\n",
       "      <td>0</td>\n",
       "      <td>4</td>\n",
       "      <td>1</td>\n",
       "      <td>1</td>\n",
       "      <td>31</td>\n",
       "      <td>1</td>\n",
       "      <td>2</td>\n",
       "      <td>2</td>\n",
       "      <td>0</td>\n",
       "      <td>0</td>\n",
       "      <td>...</td>\n",
       "      <td>0</td>\n",
       "      <td>0</td>\n",
       "      <td>0</td>\n",
       "      <td>1</td>\n",
       "      <td>1</td>\n",
       "      <td>0</td>\n",
       "      <td>0</td>\n",
       "      <td>0</td>\n",
       "      <td>0</td>\n",
       "      <td>0</td>\n",
       "    </tr>\n",
       "    <tr>\n",
       "      <th>1</th>\n",
       "      <td>0</td>\n",
       "      <td>4</td>\n",
       "      <td>1</td>\n",
       "      <td>1</td>\n",
       "      <td>31</td>\n",
       "      <td>2</td>\n",
       "      <td>1</td>\n",
       "      <td>2</td>\n",
       "      <td>1</td>\n",
       "      <td>0</td>\n",
       "      <td>...</td>\n",
       "      <td>0</td>\n",
       "      <td>0</td>\n",
       "      <td>0</td>\n",
       "      <td>1</td>\n",
       "      <td>0</td>\n",
       "      <td>0</td>\n",
       "      <td>0</td>\n",
       "      <td>0</td>\n",
       "      <td>0</td>\n",
       "      <td>0</td>\n",
       "    </tr>\n",
       "  </tbody>\n",
       "</table>\n",
       "<p>2 rows × 21 columns</p>\n",
       "</div>"
      ],
      "text/plain": [
       "   Week_of_Year  Day_Number  Month_Number  Day_Of_Year  Days_In_Month  \\\n",
       "0             0           4             1            1             31   \n",
       "1             0           4             1            1             31   \n",
       "\n",
       "   campaign_var_1  campaign_var_2  products_purchased  user_activity_var_1  \\\n",
       "0               1               2                   2                    0   \n",
       "1               2               1                   2                    1   \n",
       "\n",
       "   user_activity_var_2  ...  user_activity_var_4  user_activity_var_5  \\\n",
       "0                    0  ...                    0                    0   \n",
       "1                    0  ...                    0                    0   \n",
       "\n",
       "   user_activity_var_6  user_activity_var_7  user_activity_var_8  \\\n",
       "0                    0                    1                    1   \n",
       "1                    0                    1                    0   \n",
       "\n",
       "   user_activity_var_9  user_activity_var_10  user_activity_var_11  \\\n",
       "0                    0                     0                     0   \n",
       "1                    0                     0                     0   \n",
       "\n",
       "   user_activity_var_12  buy  \n",
       "0                     0    0  \n",
       "1                     0    0  \n",
       "\n",
       "[2 rows x 21 columns]"
      ]
     },
     "execution_count": 15,
     "metadata": {},
     "output_type": "execute_result"
    }
   ],
   "source": [
    "Train.drop([\"id\",\"created_at\",\"signup_date\"], axis=1, inplace=True)\n",
    "Train  = Train[['Week_of_Year', 'Day_Number', 'Month_Number', 'Day_Of_Year', 'Days_In_Month', 'campaign_var_1',\n",
    "                'campaign_var_2', 'products_purchased', 'user_activity_var_1', 'user_activity_var_2',\n",
    "                'user_activity_var_3', 'user_activity_var_4', 'user_activity_var_5', 'user_activity_var_6',\n",
    "                'user_activity_var_7', 'user_activity_var_8', 'user_activity_var_9', \n",
    "                'user_activity_var_10', 'user_activity_var_11', 'user_activity_var_12', 'buy']]\n",
    "Train.head(2)"
   ]
  },
  {
   "cell_type": "markdown",
   "id": "f3cfa617",
   "metadata": {},
   "source": [
    "#### Dropped ID and Date columns as it is not requires further."
   ]
  },
  {
   "cell_type": "code",
   "execution_count": 16,
   "id": "b6d698bc",
   "metadata": {},
   "outputs": [
    {
     "data": {
      "text/plain": [
       "(39161, 21)"
      ]
     },
     "execution_count": 16,
     "metadata": {},
     "output_type": "execute_result"
    }
   ],
   "source": [
    "Train.shape"
   ]
  },
  {
   "cell_type": "markdown",
   "id": "8016c1a7",
   "metadata": {},
   "source": [
    "#### a). Above Day Number shows [ 0:'Monday', 1:'Tuesday', 2:'Wednesday', 3:'Thursday', 4:'Friday', 5:'Saturday', 6:'Sunday' ]. And if you check 2021 calendar , you will see 1-1-2021 was Friday i.e Day_Number 4 according above dataframe (it will help us to get some co-relation on unseen data , as algorithms work on pattern of data)\n",
    "\n",
    "#### b). campaign_var_1 is offline and campaign_var_2 is digital marketing campaign organised by Company "
   ]
  },
  {
   "cell_type": "code",
   "execution_count": 17,
   "id": "798a0efa",
   "metadata": {},
   "outputs": [
    {
     "data": {
      "text/plain": [
       "Week_of_Year            0\n",
       "Day_Number              0\n",
       "Month_Number            0\n",
       "Day_Of_Year             0\n",
       "Days_In_Month           0\n",
       "campaign_var_1          0\n",
       "campaign_var_2          0\n",
       "products_purchased      0\n",
       "user_activity_var_1     0\n",
       "user_activity_var_2     0\n",
       "user_activity_var_3     0\n",
       "user_activity_var_4     0\n",
       "user_activity_var_5     0\n",
       "user_activity_var_6     0\n",
       "user_activity_var_7     0\n",
       "user_activity_var_8     0\n",
       "user_activity_var_9     0\n",
       "user_activity_var_10    0\n",
       "user_activity_var_11    0\n",
       "user_activity_var_12    0\n",
       "buy                     0\n",
       "dtype: int64"
      ]
     },
     "execution_count": 17,
     "metadata": {},
     "output_type": "execute_result"
    }
   ],
   "source": [
    "Train.isna().sum()"
   ]
  },
  {
   "cell_type": "markdown",
   "id": "5e6c2132",
   "metadata": {},
   "source": [
    "### Now , we will preprocess Test dataset."
   ]
  },
  {
   "cell_type": "code",
   "execution_count": 5,
   "id": "ecccdf4e",
   "metadata": {},
   "outputs": [
    {
     "data": {
      "text/plain": [
       "0"
      ]
     },
     "execution_count": 5,
     "metadata": {},
     "output_type": "execute_result"
    }
   ],
   "source": [
    "Test['products_purchased'].fillna(Test['products_purchased'].median(), inplace=True)\n",
    "Test['products_purchased'] = Test['products_purchased'].astype(int)\n",
    "Test.products_purchased.isna().sum()"
   ]
  },
  {
   "cell_type": "code",
   "execution_count": 6,
   "id": "c45dc303",
   "metadata": {},
   "outputs": [
    {
     "data": {
      "text/html": [
       "<div>\n",
       "<style scoped>\n",
       "    .dataframe tbody tr th:only-of-type {\n",
       "        vertical-align: middle;\n",
       "    }\n",
       "\n",
       "    .dataframe tbody tr th {\n",
       "        vertical-align: top;\n",
       "    }\n",
       "\n",
       "    .dataframe thead th {\n",
       "        text-align: right;\n",
       "    }\n",
       "</style>\n",
       "<table border=\"1\" class=\"dataframe\">\n",
       "  <thead>\n",
       "    <tr style=\"text-align: right;\">\n",
       "      <th></th>\n",
       "      <th>Week_of_Year</th>\n",
       "      <th>Day_Number</th>\n",
       "      <th>Month_Number</th>\n",
       "      <th>Day_Of_Year</th>\n",
       "      <th>Days_In_Month</th>\n",
       "      <th>campaign_var_1</th>\n",
       "      <th>campaign_var_2</th>\n",
       "      <th>products_purchased</th>\n",
       "      <th>user_activity_var_1</th>\n",
       "      <th>user_activity_var_2</th>\n",
       "      <th>user_activity_var_3</th>\n",
       "      <th>user_activity_var_4</th>\n",
       "      <th>user_activity_var_5</th>\n",
       "      <th>user_activity_var_6</th>\n",
       "      <th>user_activity_var_7</th>\n",
       "      <th>user_activity_var_8</th>\n",
       "      <th>user_activity_var_9</th>\n",
       "      <th>user_activity_var_10</th>\n",
       "      <th>user_activity_var_11</th>\n",
       "      <th>user_activity_var_12</th>\n",
       "    </tr>\n",
       "  </thead>\n",
       "  <tbody>\n",
       "    <tr>\n",
       "      <th>0</th>\n",
       "      <td>0</td>\n",
       "      <td>5</td>\n",
       "      <td>1</td>\n",
       "      <td>1</td>\n",
       "      <td>31</td>\n",
       "      <td>2</td>\n",
       "      <td>2</td>\n",
       "      <td>2</td>\n",
       "      <td>1</td>\n",
       "      <td>1</td>\n",
       "      <td>0</td>\n",
       "      <td>0</td>\n",
       "      <td>0</td>\n",
       "      <td>1</td>\n",
       "      <td>0</td>\n",
       "      <td>0</td>\n",
       "      <td>0</td>\n",
       "      <td>0</td>\n",
       "      <td>1</td>\n",
       "      <td>0</td>\n",
       "    </tr>\n",
       "    <tr>\n",
       "      <th>1</th>\n",
       "      <td>0</td>\n",
       "      <td>5</td>\n",
       "      <td>1</td>\n",
       "      <td>1</td>\n",
       "      <td>31</td>\n",
       "      <td>4</td>\n",
       "      <td>7</td>\n",
       "      <td>3</td>\n",
       "      <td>1</td>\n",
       "      <td>0</td>\n",
       "      <td>0</td>\n",
       "      <td>0</td>\n",
       "      <td>0</td>\n",
       "      <td>0</td>\n",
       "      <td>0</td>\n",
       "      <td>1</td>\n",
       "      <td>0</td>\n",
       "      <td>0</td>\n",
       "      <td>0</td>\n",
       "      <td>0</td>\n",
       "    </tr>\n",
       "  </tbody>\n",
       "</table>\n",
       "</div>"
      ],
      "text/plain": [
       "   Week_of_Year  Day_Number  Month_Number  Day_Of_Year  Days_In_Month  \\\n",
       "0             0           5             1            1             31   \n",
       "1             0           5             1            1             31   \n",
       "\n",
       "   campaign_var_1  campaign_var_2  products_purchased  user_activity_var_1  \\\n",
       "0               2               2                   2                    1   \n",
       "1               4               7                   3                    1   \n",
       "\n",
       "   user_activity_var_2  user_activity_var_3  user_activity_var_4  \\\n",
       "0                    1                    0                    0   \n",
       "1                    0                    0                    0   \n",
       "\n",
       "   user_activity_var_5  user_activity_var_6  user_activity_var_7  \\\n",
       "0                    0                    1                    0   \n",
       "1                    0                    0                    0   \n",
       "\n",
       "   user_activity_var_8  user_activity_var_9  user_activity_var_10  \\\n",
       "0                    0                    0                     0   \n",
       "1                    1                    0                     0   \n",
       "\n",
       "   user_activity_var_11  user_activity_var_12  \n",
       "0                     1                     0  \n",
       "1                     0                     0  "
      ]
     },
     "execution_count": 6,
     "metadata": {},
     "output_type": "execute_result"
    }
   ],
   "source": [
    "Test[\"Week_of_Year\"] = pd.DatetimeIndex(Test['created_at']).strftime('%U').astype(int)\n",
    "Test[\"Day_Number\"] = pd.DatetimeIndex(Test['created_at']).dayofweek\n",
    "Test[\"Month_Number\"] = pd.DatetimeIndex(Test['created_at']).month\n",
    "Test[\"Day_Of_Year\"] = pd.DatetimeIndex(Test['created_at']).dayofyear\n",
    "Test[\"Days_In_Month\"] = pd.DatetimeIndex(Test['created_at']).days_in_month\n",
    "Test.drop([\"id\",\"created_at\",\"signup_date\"], axis=1, inplace=True)\n",
    "Test  = Test[['Week_of_Year', 'Day_Number', 'Month_Number', 'Day_Of_Year', 'Days_In_Month', 'campaign_var_1',\n",
    "                'campaign_var_2', 'products_purchased', 'user_activity_var_1', 'user_activity_var_2',\n",
    "                'user_activity_var_3', 'user_activity_var_4', 'user_activity_var_5', 'user_activity_var_6',\n",
    "                'user_activity_var_7', 'user_activity_var_8', 'user_activity_var_9', \n",
    "                'user_activity_var_10', 'user_activity_var_11', 'user_activity_var_12']]\n",
    "Test.head(2)"
   ]
  },
  {
   "cell_type": "markdown",
   "id": "6585875a",
   "metadata": {},
   "source": [
    "#### All the Steps in preprocessing Test data is same as Train data."
   ]
  },
  {
   "cell_type": "code",
   "execution_count": 20,
   "id": "76639b9d",
   "metadata": {},
   "outputs": [],
   "source": [
    "# Taking to Independent (X) and Dependent (y) feature's\n",
    "X = Train.drop('buy', axis = 1)\n",
    "y = Train.buy"
   ]
  },
  {
   "cell_type": "code",
   "execution_count": 21,
   "id": "740c9cde",
   "metadata": {},
   "outputs": [],
   "source": [
    "from sklearn.model_selection import train_test_split\n",
    "X_train, X_test, y_train, y_test = train_test_split(X.values, y, train_size=0.8, random_state=42)"
   ]
  },
  {
   "cell_type": "markdown",
   "id": "eeb068d3",
   "metadata": {},
   "source": [
    "#### Splitting Train data into train and test as 80:20 resp."
   ]
  },
  {
   "cell_type": "markdown",
   "id": "dcbfcf56",
   "metadata": {},
   "source": [
    "### * Approach's\n",
    "\n",
    "#### As our data is conditional , we will try with \"Tree-based models\" which use a series of if-then rules to generate predictions from one or more decision trees for classification (predicting categorical values)"
   ]
  },
  {
   "cell_type": "markdown",
   "id": "2612da32",
   "metadata": {},
   "source": [
    "# 1).\n",
    "\n",
    "####  We will start with Catboost Classifier, because it is fast tree based algorithm which uses Decision Tree as base model."
   ]
  },
  {
   "cell_type": "code",
   "execution_count": 22,
   "id": "e3ab6aa9",
   "metadata": {},
   "outputs": [
    {
     "name": "stdout",
     "output_type": "stream",
     "text": [
      "0:\tlearn: 0.6239832\ttotal: 144ms\tremaining: 14.2s\n",
      "1:\tlearn: 0.5704234\ttotal: 154ms\tremaining: 7.53s\n",
      "2:\tlearn: 0.5197448\ttotal: 163ms\tremaining: 5.27s\n",
      "3:\tlearn: 0.4731358\ttotal: 172ms\tremaining: 4.12s\n",
      "4:\tlearn: 0.4322176\ttotal: 180ms\tremaining: 3.42s\n",
      "5:\tlearn: 0.3996164\ttotal: 190ms\tremaining: 2.98s\n",
      "6:\tlearn: 0.3708677\ttotal: 199ms\tremaining: 2.64s\n",
      "7:\tlearn: 0.3419965\ttotal: 206ms\tremaining: 2.37s\n",
      "8:\tlearn: 0.3176171\ttotal: 215ms\tremaining: 2.17s\n",
      "9:\tlearn: 0.2951986\ttotal: 223ms\tremaining: 2s\n",
      "10:\tlearn: 0.2767953\ttotal: 231ms\tremaining: 1.87s\n",
      "11:\tlearn: 0.2591592\ttotal: 240ms\tremaining: 1.76s\n",
      "12:\tlearn: 0.2447394\ttotal: 249ms\tremaining: 1.67s\n",
      "13:\tlearn: 0.2289144\ttotal: 258ms\tremaining: 1.58s\n",
      "14:\tlearn: 0.2163455\ttotal: 268ms\tremaining: 1.52s\n",
      "15:\tlearn: 0.2039653\ttotal: 276ms\tremaining: 1.45s\n",
      "16:\tlearn: 0.1938305\ttotal: 286ms\tremaining: 1.39s\n",
      "17:\tlearn: 0.1860807\ttotal: 295ms\tremaining: 1.34s\n",
      "18:\tlearn: 0.1786155\ttotal: 304ms\tremaining: 1.29s\n",
      "19:\tlearn: 0.1723433\ttotal: 312ms\tremaining: 1.25s\n",
      "20:\tlearn: 0.1647693\ttotal: 322ms\tremaining: 1.21s\n",
      "21:\tlearn: 0.1589811\ttotal: 335ms\tremaining: 1.19s\n",
      "22:\tlearn: 0.1544341\ttotal: 346ms\tremaining: 1.16s\n",
      "23:\tlearn: 0.1494830\ttotal: 357ms\tremaining: 1.13s\n",
      "24:\tlearn: 0.1458968\ttotal: 368ms\tremaining: 1.1s\n",
      "25:\tlearn: 0.1427480\ttotal: 378ms\tremaining: 1.07s\n",
      "26:\tlearn: 0.1399846\ttotal: 386ms\tremaining: 1.04s\n",
      "27:\tlearn: 0.1363909\ttotal: 393ms\tremaining: 1.01s\n",
      "28:\tlearn: 0.1341811\ttotal: 402ms\tremaining: 984ms\n",
      "29:\tlearn: 0.1319311\ttotal: 409ms\tremaining: 955ms\n",
      "30:\tlearn: 0.1298407\ttotal: 416ms\tremaining: 927ms\n",
      "31:\tlearn: 0.1278798\ttotal: 424ms\tremaining: 901ms\n",
      "32:\tlearn: 0.1259091\ttotal: 432ms\tremaining: 877ms\n",
      "33:\tlearn: 0.1234612\ttotal: 441ms\tremaining: 856ms\n",
      "34:\tlearn: 0.1212061\ttotal: 451ms\tremaining: 838ms\n",
      "35:\tlearn: 0.1201180\ttotal: 460ms\tremaining: 818ms\n",
      "36:\tlearn: 0.1182905\ttotal: 470ms\tremaining: 800ms\n",
      "37:\tlearn: 0.1167799\ttotal: 480ms\tremaining: 783ms\n",
      "38:\tlearn: 0.1152458\ttotal: 487ms\tremaining: 762ms\n",
      "39:\tlearn: 0.1141085\ttotal: 496ms\tremaining: 744ms\n",
      "40:\tlearn: 0.1134594\ttotal: 503ms\tremaining: 723ms\n",
      "41:\tlearn: 0.1121470\ttotal: 511ms\tremaining: 705ms\n",
      "42:\tlearn: 0.1112918\ttotal: 519ms\tremaining: 688ms\n",
      "43:\tlearn: 0.1106229\ttotal: 527ms\tremaining: 671ms\n",
      "44:\tlearn: 0.1099085\ttotal: 538ms\tremaining: 657ms\n",
      "45:\tlearn: 0.1094313\ttotal: 550ms\tremaining: 645ms\n",
      "46:\tlearn: 0.1089862\ttotal: 559ms\tremaining: 630ms\n",
      "47:\tlearn: 0.1083578\ttotal: 569ms\tremaining: 616ms\n",
      "48:\tlearn: 0.1079470\ttotal: 577ms\tremaining: 601ms\n",
      "49:\tlearn: 0.1073997\ttotal: 585ms\tremaining: 585ms\n",
      "50:\tlearn: 0.1070146\ttotal: 592ms\tremaining: 569ms\n",
      "51:\tlearn: 0.1065312\ttotal: 599ms\tremaining: 553ms\n",
      "52:\tlearn: 0.1061747\ttotal: 606ms\tremaining: 537ms\n",
      "53:\tlearn: 0.1058939\ttotal: 613ms\tremaining: 522ms\n",
      "54:\tlearn: 0.1055448\ttotal: 620ms\tremaining: 507ms\n",
      "55:\tlearn: 0.1052702\ttotal: 627ms\tremaining: 493ms\n",
      "56:\tlearn: 0.1050172\ttotal: 635ms\tremaining: 479ms\n",
      "57:\tlearn: 0.1044824\ttotal: 645ms\tremaining: 467ms\n",
      "58:\tlearn: 0.1042686\ttotal: 652ms\tremaining: 453ms\n",
      "59:\tlearn: 0.1039693\ttotal: 659ms\tremaining: 439ms\n",
      "60:\tlearn: 0.1038034\ttotal: 666ms\tremaining: 426ms\n",
      "61:\tlearn: 0.1035521\ttotal: 673ms\tremaining: 413ms\n",
      "62:\tlearn: 0.1031181\ttotal: 681ms\tremaining: 400ms\n",
      "63:\tlearn: 0.1029124\ttotal: 688ms\tremaining: 387ms\n",
      "64:\tlearn: 0.1027229\ttotal: 695ms\tremaining: 374ms\n",
      "65:\tlearn: 0.1025386\ttotal: 702ms\tremaining: 362ms\n",
      "66:\tlearn: 0.1021322\ttotal: 711ms\tremaining: 350ms\n",
      "67:\tlearn: 0.1019589\ttotal: 719ms\tremaining: 338ms\n",
      "68:\tlearn: 0.1017172\ttotal: 731ms\tremaining: 328ms\n",
      "69:\tlearn: 0.1015349\ttotal: 741ms\tremaining: 318ms\n",
      "70:\tlearn: 0.1012984\ttotal: 752ms\tremaining: 307ms\n",
      "71:\tlearn: 0.1011023\ttotal: 762ms\tremaining: 296ms\n",
      "72:\tlearn: 0.1009936\ttotal: 771ms\tremaining: 285ms\n",
      "73:\tlearn: 0.1008923\ttotal: 780ms\tremaining: 274ms\n",
      "74:\tlearn: 0.1006583\ttotal: 790ms\tremaining: 263ms\n",
      "75:\tlearn: 0.1005360\ttotal: 797ms\tremaining: 252ms\n",
      "76:\tlearn: 0.1004146\ttotal: 804ms\tremaining: 240ms\n",
      "77:\tlearn: 0.1002095\ttotal: 812ms\tremaining: 229ms\n",
      "78:\tlearn: 0.1001124\ttotal: 819ms\tremaining: 218ms\n",
      "79:\tlearn: 0.1000313\ttotal: 827ms\tremaining: 207ms\n",
      "80:\tlearn: 0.0998685\ttotal: 836ms\tremaining: 196ms\n",
      "81:\tlearn: 0.0997460\ttotal: 844ms\tremaining: 185ms\n",
      "82:\tlearn: 0.0995343\ttotal: 851ms\tremaining: 174ms\n",
      "83:\tlearn: 0.0993330\ttotal: 859ms\tremaining: 164ms\n",
      "84:\tlearn: 0.0992570\ttotal: 868ms\tremaining: 153ms\n",
      "85:\tlearn: 0.0991751\ttotal: 876ms\tremaining: 143ms\n",
      "86:\tlearn: 0.0990473\ttotal: 886ms\tremaining: 132ms\n",
      "87:\tlearn: 0.0989871\ttotal: 893ms\tremaining: 122ms\n",
      "88:\tlearn: 0.0988404\ttotal: 900ms\tremaining: 111ms\n",
      "89:\tlearn: 0.0987233\ttotal: 908ms\tremaining: 101ms\n",
      "90:\tlearn: 0.0986081\ttotal: 915ms\tremaining: 90.5ms\n",
      "91:\tlearn: 0.0985627\ttotal: 926ms\tremaining: 80.5ms\n",
      "92:\tlearn: 0.0985021\ttotal: 937ms\tremaining: 70.5ms\n",
      "93:\tlearn: 0.0984315\ttotal: 948ms\tremaining: 60.5ms\n",
      "94:\tlearn: 0.0983367\ttotal: 958ms\tremaining: 50.4ms\n",
      "95:\tlearn: 0.0982065\ttotal: 969ms\tremaining: 40.4ms\n",
      "96:\tlearn: 0.0981261\ttotal: 977ms\tremaining: 30.2ms\n",
      "97:\tlearn: 0.0981020\ttotal: 985ms\tremaining: 20.1ms\n",
      "98:\tlearn: 0.0980007\ttotal: 993ms\tremaining: 10ms\n",
      "99:\tlearn: 0.0978758\ttotal: 1s\tremaining: 0us\n",
      " Results from Grid Search \n",
      "\n",
      " The best estimator across ALL searched params:\n",
      " <catboost.core.CatBoostClassifier object at 0x000001ECB1F5C1C8>\n",
      "\n",
      " The best score across ALL searched params:\n",
      " 0.9741126149131767\n",
      "\n",
      " The best parameters across ALL searched params:\n",
      " {'depth': 5, 'iterations': 100, 'learning_rate': 0.04}\n"
     ]
    }
   ],
   "source": [
    "from sklearn.model_selection import GridSearchCV\n",
    "from catboost import CatBoostClassifier\n",
    "CBC = CatBoostClassifier()\n",
    "\n",
    "parameters = {'depth'         : [4,5,6,7,8,9, 10],\n",
    "               'learning_rate' : [0.01,0.02,0.03,0.04],\n",
    "               'iterations'    : [10, 20,30,40,50,60,70,80,90, 100]\n",
    "              }\n",
    "\n",
    "Grid_CBC = GridSearchCV(estimator=CBC, param_grid = parameters, cv = 2, n_jobs=-1)\n",
    "Grid_CBC.fit(X_train, y_train)\n",
    "print(\" Results from Grid Search \" )\n",
    "print(\"\\n The best estimator across ALL searched params:\\n\",Grid_CBC.best_estimator_)\n",
    "print(\"\\n The best score across ALL searched params:\\n\",Grid_CBC.best_score_)\n",
    "print(\"\\n The best parameters across ALL searched params:\\n\",Grid_CBC.best_params_)"
   ]
  },
  {
   "cell_type": "code",
   "execution_count": 116,
   "id": "bf0131f0",
   "metadata": {},
   "outputs": [
    {
     "name": "stdout",
     "output_type": "stream",
     "text": [
      "0:\tlearn: 0.6299341\ttest: 0.6296515\tbest: 0.6296515 (0)\ttotal: 89.6ms\tremaining: 8.87s\n",
      "1:\tlearn: 0.5642080\ttest: 0.5636512\tbest: 0.5636512 (1)\ttotal: 168ms\tremaining: 8.21s\n",
      "2:\tlearn: 0.5154768\ttest: 0.5146750\tbest: 0.5146750 (2)\ttotal: 237ms\tremaining: 7.67s\n",
      "3:\tlearn: 0.4646723\ttest: 0.4634062\tbest: 0.4634062 (3)\ttotal: 311ms\tremaining: 7.47s\n",
      "4:\tlearn: 0.4228818\ttest: 0.4215124\tbest: 0.4215124 (4)\ttotal: 386ms\tremaining: 7.33s\n",
      "5:\tlearn: 0.3896015\ttest: 0.3880199\tbest: 0.3880199 (5)\ttotal: 457ms\tremaining: 7.17s\n",
      "6:\tlearn: 0.3602212\ttest: 0.3584592\tbest: 0.3584592 (6)\ttotal: 527ms\tremaining: 7s\n",
      "7:\tlearn: 0.3321501\ttest: 0.3302498\tbest: 0.3302498 (7)\ttotal: 596ms\tremaining: 6.85s\n",
      "8:\tlearn: 0.3079172\ttest: 0.3056601\tbest: 0.3056601 (8)\ttotal: 666ms\tremaining: 6.73s\n",
      "9:\tlearn: 0.2865741\ttest: 0.2839832\tbest: 0.2839832 (9)\ttotal: 737ms\tremaining: 6.63s\n",
      "10:\tlearn: 0.2678735\ttest: 0.2649460\tbest: 0.2649460 (10)\ttotal: 806ms\tremaining: 6.52s\n",
      "11:\tlearn: 0.2523616\ttest: 0.2492387\tbest: 0.2492387 (11)\ttotal: 865ms\tremaining: 6.34s\n",
      "12:\tlearn: 0.2367605\ttest: 0.2334284\tbest: 0.2334284 (12)\ttotal: 936ms\tremaining: 6.26s\n",
      "13:\tlearn: 0.2246718\ttest: 0.2210802\tbest: 0.2210802 (13)\ttotal: 1.01s\tremaining: 6.23s\n",
      "14:\tlearn: 0.2144369\ttest: 0.2106907\tbest: 0.2106907 (14)\ttotal: 1.07s\tremaining: 6.04s\n",
      "15:\tlearn: 0.2055025\ttest: 0.2016611\tbest: 0.2016611 (15)\ttotal: 1.15s\tremaining: 6.03s\n",
      "16:\tlearn: 0.1960146\ttest: 0.1919056\tbest: 0.1919056 (16)\ttotal: 1.22s\tremaining: 5.94s\n",
      "17:\tlearn: 0.1888435\ttest: 0.1845696\tbest: 0.1845696 (17)\ttotal: 1.28s\tremaining: 5.84s\n",
      "18:\tlearn: 0.1799010\ttest: 0.1754901\tbest: 0.1754901 (18)\ttotal: 1.35s\tremaining: 5.76s\n",
      "19:\tlearn: 0.1739583\ttest: 0.1694427\tbest: 0.1694427 (19)\ttotal: 1.42s\tremaining: 5.67s\n",
      "20:\tlearn: 0.1672933\ttest: 0.1627172\tbest: 0.1627172 (20)\ttotal: 1.48s\tremaining: 5.57s\n",
      "21:\tlearn: 0.1622461\ttest: 0.1574557\tbest: 0.1574557 (21)\ttotal: 1.54s\tremaining: 5.47s\n",
      "22:\tlearn: 0.1564990\ttest: 0.1515522\tbest: 0.1515522 (22)\ttotal: 1.61s\tremaining: 5.38s\n",
      "23:\tlearn: 0.1521991\ttest: 0.1471814\tbest: 0.1471814 (23)\ttotal: 1.67s\tremaining: 5.3s\n",
      "24:\tlearn: 0.1475100\ttest: 0.1424190\tbest: 0.1424190 (24)\ttotal: 1.74s\tremaining: 5.21s\n",
      "25:\tlearn: 0.1442283\ttest: 0.1389637\tbest: 0.1389637 (25)\ttotal: 1.8s\tremaining: 5.13s\n",
      "26:\tlearn: 0.1403956\ttest: 0.1350091\tbest: 0.1350091 (26)\ttotal: 1.87s\tremaining: 5.05s\n",
      "27:\tlearn: 0.1376145\ttest: 0.1321982\tbest: 0.1321982 (27)\ttotal: 1.91s\tremaining: 4.91s\n",
      "28:\tlearn: 0.1352473\ttest: 0.1297433\tbest: 0.1297433 (28)\ttotal: 1.97s\tremaining: 4.82s\n",
      "29:\tlearn: 0.1325449\ttest: 0.1269271\tbest: 0.1269271 (29)\ttotal: 2.03s\tremaining: 4.75s\n",
      "30:\tlearn: 0.1306018\ttest: 0.1247686\tbest: 0.1247686 (30)\ttotal: 2.09s\tremaining: 4.66s\n",
      "31:\tlearn: 0.1286440\ttest: 0.1227818\tbest: 0.1227818 (31)\ttotal: 2.17s\tremaining: 4.62s\n",
      "32:\tlearn: 0.1263763\ttest: 0.1204087\tbest: 0.1204087 (32)\ttotal: 2.25s\tremaining: 4.57s\n",
      "33:\tlearn: 0.1243296\ttest: 0.1183063\tbest: 0.1183063 (33)\ttotal: 2.33s\tremaining: 4.52s\n",
      "34:\tlearn: 0.1227849\ttest: 0.1167376\tbest: 0.1167376 (34)\ttotal: 2.39s\tremaining: 4.45s\n",
      "35:\tlearn: 0.1214297\ttest: 0.1152653\tbest: 0.1152653 (35)\ttotal: 2.46s\tremaining: 4.38s\n",
      "36:\tlearn: 0.1201767\ttest: 0.1139496\tbest: 0.1139496 (36)\ttotal: 2.53s\tremaining: 4.31s\n",
      "37:\tlearn: 0.1191934\ttest: 0.1128798\tbest: 0.1128798 (37)\ttotal: 2.59s\tremaining: 4.23s\n",
      "38:\tlearn: 0.1179516\ttest: 0.1115779\tbest: 0.1115779 (38)\ttotal: 2.66s\tremaining: 4.16s\n",
      "39:\tlearn: 0.1162995\ttest: 0.1098907\tbest: 0.1098907 (39)\ttotal: 2.73s\tremaining: 4.1s\n",
      "40:\tlearn: 0.1148272\ttest: 0.1084010\tbest: 0.1084010 (40)\ttotal: 2.81s\tremaining: 4.04s\n",
      "41:\tlearn: 0.1136368\ttest: 0.1071587\tbest: 0.1071587 (41)\ttotal: 2.87s\tremaining: 3.96s\n",
      "42:\tlearn: 0.1127059\ttest: 0.1062632\tbest: 0.1062632 (42)\ttotal: 2.94s\tremaining: 3.89s\n",
      "43:\tlearn: 0.1118521\ttest: 0.1053091\tbest: 0.1053091 (43)\ttotal: 3s\tremaining: 3.82s\n",
      "44:\tlearn: 0.1112402\ttest: 0.1046180\tbest: 0.1046180 (44)\ttotal: 3.07s\tremaining: 3.76s\n",
      "45:\tlearn: 0.1105813\ttest: 0.1039702\tbest: 0.1039702 (45)\ttotal: 3.14s\tremaining: 3.68s\n",
      "46:\tlearn: 0.1099644\ttest: 0.1033320\tbest: 0.1033320 (46)\ttotal: 3.2s\tremaining: 3.61s\n",
      "47:\tlearn: 0.1094257\ttest: 0.1027910\tbest: 0.1027910 (47)\ttotal: 3.26s\tremaining: 3.53s\n",
      "48:\tlearn: 0.1088642\ttest: 0.1022474\tbest: 0.1022474 (48)\ttotal: 3.33s\tremaining: 3.46s\n",
      "49:\tlearn: 0.1086112\ttest: 0.1019971\tbest: 0.1019971 (49)\ttotal: 3.36s\tremaining: 3.36s\n",
      "50:\tlearn: 0.1079428\ttest: 0.1012813\tbest: 0.1012813 (50)\ttotal: 3.42s\tremaining: 3.29s\n",
      "51:\tlearn: 0.1074488\ttest: 0.1007831\tbest: 0.1007831 (51)\ttotal: 3.48s\tremaining: 3.21s\n",
      "52:\tlearn: 0.1070765\ttest: 0.1003984\tbest: 0.1003984 (52)\ttotal: 3.54s\tremaining: 3.14s\n",
      "53:\tlearn: 0.1065699\ttest: 0.0999136\tbest: 0.0999136 (53)\ttotal: 3.6s\tremaining: 3.07s\n",
      "54:\tlearn: 0.1060675\ttest: 0.0993814\tbest: 0.0993814 (54)\ttotal: 3.67s\tremaining: 3s\n",
      "55:\tlearn: 0.1056765\ttest: 0.0990275\tbest: 0.0990275 (55)\ttotal: 3.74s\tremaining: 2.94s\n",
      "56:\tlearn: 0.1054044\ttest: 0.0987603\tbest: 0.0987603 (56)\ttotal: 3.8s\tremaining: 2.87s\n",
      "57:\tlearn: 0.1050329\ttest: 0.0983536\tbest: 0.0983536 (57)\ttotal: 3.88s\tremaining: 2.81s\n",
      "58:\tlearn: 0.1047329\ttest: 0.0980545\tbest: 0.0980545 (58)\ttotal: 3.94s\tremaining: 2.74s\n",
      "59:\tlearn: 0.1044324\ttest: 0.0977846\tbest: 0.0977846 (59)\ttotal: 4.01s\tremaining: 2.67s\n",
      "60:\tlearn: 0.1042802\ttest: 0.0976036\tbest: 0.0976036 (60)\ttotal: 4.09s\tremaining: 2.61s\n",
      "61:\tlearn: 0.1039995\ttest: 0.0973349\tbest: 0.0973349 (61)\ttotal: 4.16s\tremaining: 2.55s\n",
      "62:\tlearn: 0.1038385\ttest: 0.0971591\tbest: 0.0971591 (62)\ttotal: 4.22s\tremaining: 2.48s\n",
      "63:\tlearn: 0.1036452\ttest: 0.0969105\tbest: 0.0969105 (63)\ttotal: 4.29s\tremaining: 2.41s\n",
      "64:\tlearn: 0.1034437\ttest: 0.0967137\tbest: 0.0967137 (64)\ttotal: 4.35s\tremaining: 2.34s\n",
      "65:\tlearn: 0.1033230\ttest: 0.0965956\tbest: 0.0965956 (65)\ttotal: 4.42s\tremaining: 2.28s\n",
      "66:\tlearn: 0.1032542\ttest: 0.0964739\tbest: 0.0964739 (66)\ttotal: 4.47s\tremaining: 2.2s\n",
      "67:\tlearn: 0.1029428\ttest: 0.0961456\tbest: 0.0961456 (67)\ttotal: 4.54s\tremaining: 2.14s\n",
      "68:\tlearn: 0.1028009\ttest: 0.0959400\tbest: 0.0959400 (68)\ttotal: 4.61s\tremaining: 2.07s\n",
      "69:\tlearn: 0.1025229\ttest: 0.0957092\tbest: 0.0957092 (69)\ttotal: 4.67s\tremaining: 2s\n",
      "70:\tlearn: 0.1023170\ttest: 0.0955238\tbest: 0.0955238 (70)\ttotal: 4.74s\tremaining: 1.94s\n",
      "71:\tlearn: 0.1020930\ttest: 0.0953263\tbest: 0.0953263 (71)\ttotal: 4.81s\tremaining: 1.87s\n",
      "72:\tlearn: 0.1018893\ttest: 0.0951210\tbest: 0.0951210 (72)\ttotal: 4.88s\tremaining: 1.8s\n",
      "73:\tlearn: 0.1017258\ttest: 0.0949726\tbest: 0.0949726 (73)\ttotal: 4.95s\tremaining: 1.74s\n",
      "74:\tlearn: 0.1014800\ttest: 0.0947296\tbest: 0.0947296 (74)\ttotal: 5.01s\tremaining: 1.67s\n",
      "75:\tlearn: 0.1012810\ttest: 0.0945322\tbest: 0.0945322 (75)\ttotal: 5.09s\tremaining: 1.61s\n",
      "76:\tlearn: 0.1010717\ttest: 0.0943731\tbest: 0.0943731 (76)\ttotal: 5.15s\tremaining: 1.54s\n",
      "77:\tlearn: 0.1009079\ttest: 0.0942204\tbest: 0.0942204 (77)\ttotal: 5.22s\tremaining: 1.47s\n",
      "78:\tlearn: 0.1008892\ttest: 0.0941694\tbest: 0.0941694 (78)\ttotal: 5.26s\tremaining: 1.4s\n",
      "79:\tlearn: 0.1007184\ttest: 0.0939931\tbest: 0.0939931 (79)\ttotal: 5.33s\tremaining: 1.33s\n",
      "80:\tlearn: 0.1005682\ttest: 0.0938597\tbest: 0.0938597 (80)\ttotal: 5.4s\tremaining: 1.27s\n",
      "81:\tlearn: 0.1004489\ttest: 0.0937648\tbest: 0.0937648 (81)\ttotal: 5.47s\tremaining: 1.2s\n",
      "82:\tlearn: 0.1002845\ttest: 0.0935812\tbest: 0.0935812 (82)\ttotal: 5.53s\tremaining: 1.13s\n",
      "83:\tlearn: 0.1001441\ttest: 0.0934107\tbest: 0.0934107 (83)\ttotal: 5.6s\tremaining: 1.07s\n",
      "84:\tlearn: 0.1001085\ttest: 0.0933669\tbest: 0.0933669 (84)\ttotal: 5.67s\tremaining: 1s\n",
      "85:\tlearn: 0.0999881\ttest: 0.0932924\tbest: 0.0932924 (85)\ttotal: 5.74s\tremaining: 934ms\n",
      "86:\tlearn: 0.0999097\ttest: 0.0931814\tbest: 0.0931814 (86)\ttotal: 5.81s\tremaining: 868ms\n",
      "87:\tlearn: 0.0998209\ttest: 0.0931157\tbest: 0.0931157 (87)\ttotal: 5.88s\tremaining: 801ms\n",
      "88:\tlearn: 0.0996971\ttest: 0.0930004\tbest: 0.0930004 (88)\ttotal: 5.95s\tremaining: 735ms\n",
      "89:\tlearn: 0.0995553\ttest: 0.0928959\tbest: 0.0928959 (89)\ttotal: 6.01s\tremaining: 668ms\n",
      "90:\tlearn: 0.0994880\ttest: 0.0928297\tbest: 0.0928297 (90)\ttotal: 6.08s\tremaining: 601ms\n",
      "91:\tlearn: 0.0994199\ttest: 0.0927727\tbest: 0.0927727 (91)\ttotal: 6.15s\tremaining: 535ms\n",
      "92:\tlearn: 0.0993350\ttest: 0.0927337\tbest: 0.0927337 (92)\ttotal: 6.22s\tremaining: 468ms\n",
      "93:\tlearn: 0.0992553\ttest: 0.0926792\tbest: 0.0926792 (93)\ttotal: 6.28s\tremaining: 401ms\n",
      "94:\tlearn: 0.0990881\ttest: 0.0925005\tbest: 0.0925005 (94)\ttotal: 6.35s\tremaining: 334ms\n"
     ]
    },
    {
     "name": "stdout",
     "output_type": "stream",
     "text": [
      "95:\tlearn: 0.0990386\ttest: 0.0924489\tbest: 0.0924489 (95)\ttotal: 6.42s\tremaining: 267ms\n",
      "96:\tlearn: 0.0989907\ttest: 0.0924179\tbest: 0.0924179 (96)\ttotal: 6.48s\tremaining: 200ms\n",
      "97:\tlearn: 0.0988664\ttest: 0.0923109\tbest: 0.0923109 (97)\ttotal: 6.55s\tremaining: 134ms\n",
      "98:\tlearn: 0.0988381\ttest: 0.0922622\tbest: 0.0922622 (98)\ttotal: 6.62s\tremaining: 66.8ms\n",
      "99:\tlearn: 0.0987409\ttest: 0.0922007\tbest: 0.0922007 (99)\ttotal: 6.68s\tremaining: 0us\n",
      "\n",
      "bestTest = 0.09220069951\n",
      "bestIteration = 99\n",
      "\n",
      "Training score:  0.9744637385086823\n"
     ]
    }
   ],
   "source": [
    "from catboost import CatBoostClassifier\n",
    "CBC = CatBoostClassifier(depth= 5, iterations = 100, learning_rate =  0.04,custom_loss=\"F1\")\n",
    "\n",
    "\n",
    "cat_features = list(range(0, X_train.shape[1]))\n",
    "CBC.fit(\n",
    "    X_train, y_train,\n",
    "    cat_features=cat_features,\n",
    "    eval_set=(X_test, y_test),\n",
    ")\n",
    "\n",
    "scorex = CBC.score(X_train, y_train)\n",
    "print(\"Training score: \", scorex)\n"
   ]
  },
  {
   "cell_type": "markdown",
   "id": "9cafcb33",
   "metadata": {},
   "source": [
    "#### Lets make prediction with catboost classifier on test dataset"
   ]
  },
  {
   "cell_type": "code",
   "execution_count": 71,
   "id": "7a282da4",
   "metadata": {},
   "outputs": [
    {
     "data": {
      "text/plain": [
       "(7833, 20)"
      ]
     },
     "execution_count": 71,
     "metadata": {},
     "output_type": "execute_result"
    }
   ],
   "source": [
    "X_test.shape"
   ]
  },
  {
   "cell_type": "code",
   "execution_count": 72,
   "id": "82c9505d",
   "metadata": {},
   "outputs": [
    {
     "data": {
      "text/plain": [
       "{0: 7596, 1: 237}"
      ]
     },
     "execution_count": 72,
     "metadata": {},
     "output_type": "execute_result"
    }
   ],
   "source": [
    "predicted_y_test = CBC.predict(X_test)\n",
    "unique, counts = np.unique(predicted_y_test, return_counts=True)\n",
    "dict(zip(unique, counts))"
   ]
  },
  {
   "cell_type": "code",
   "execution_count": 73,
   "id": "0a16b7a3",
   "metadata": {},
   "outputs": [
    {
     "name": "stdout",
     "output_type": "stream",
     "text": [
      "0.9880207640090508\n"
     ]
    }
   ],
   "source": [
    "f1 = f1_score(y_test, predicted_y_test, average=None)\n",
    "print(f1[0])"
   ]
  },
  {
   "cell_type": "code",
   "execution_count": 74,
   "id": "0144d2d1",
   "metadata": {},
   "outputs": [
    {
     "data": {
      "text/plain": [
       "array([1, 0, 0, ..., 0, 0, 0], dtype=int64)"
      ]
     },
     "execution_count": 74,
     "metadata": {},
     "output_type": "execute_result"
    }
   ],
   "source": [
    "X_test_CBC = Test.values\n",
    "Final_predicted_CBC = CBC.predict(X_test_CBC)\n",
    "Final_predicted_CBC"
   ]
  },
  {
   "cell_type": "code",
   "execution_count": 75,
   "id": "ce7fe22b",
   "metadata": {},
   "outputs": [
    {
     "data": {
      "text/plain": [
       "{0: 12870, 1: 314}"
      ]
     },
     "execution_count": 75,
     "metadata": {},
     "output_type": "execute_result"
    }
   ],
   "source": [
    "unique, counts = np.unique(Final_predicted_CBC, return_counts=True)\n",
    "dict(zip(unique, counts))"
   ]
  },
  {
   "cell_type": "code",
   "execution_count": 76,
   "id": "6406c868",
   "metadata": {},
   "outputs": [],
   "source": [
    "from sklearn.model_selection import train_test_split\n",
    "X_train, X_test, y_train, y_test = train_test_split(X.values, y, train_size=0.8, random_state=42)"
   ]
  },
  {
   "cell_type": "markdown",
   "id": "a0930bf6",
   "metadata": {},
   "source": [
    "# 2).\n",
    "\n",
    "#### We will use Perceptron. Because Perceptron is a neural network unit that does certain computations to detect features or business intelligence in the input data, it is also known as a Linear Binary Classifier as our problem is from 0's & 1's NN units will help to classify between 0 & 1."
   ]
  },
  {
   "cell_type": "markdown",
   "id": "b6773494",
   "metadata": {},
   "source": [
    "#### Perceptron"
   ]
  },
  {
   "cell_type": "code",
   "execution_count": 86,
   "id": "10bff2dd",
   "metadata": {},
   "outputs": [
    {
     "name": "stdout",
     "output_type": "stream",
     "text": [
      "Training score:  0.9518322267620021\n",
      "0.9761356912760503\n"
     ]
    }
   ],
   "source": [
    "from sklearn.linear_model import Perceptron\n",
    "from sklearn.metrics import f1_score\n",
    "percep = Perceptron()\n",
    "percep.fit(X_train, y_train)\n",
    "scorex = percep.score(X_train, y_train)\n",
    "print(\"Training score: \", scorex)\n",
    "\n",
    "ypred_percep = percep.predict(X_test)\n",
    "\n",
    "f1 = f1_score(y_test, ypred_percep, average=None)\n",
    "print(f1[0])"
   ]
  },
  {
   "cell_type": "code",
   "execution_count": 87,
   "id": "e2e25957",
   "metadata": {},
   "outputs": [
    {
     "data": {
      "text/plain": [
       "array([0, 0, 0, ..., 0, 0, 0], dtype=int64)"
      ]
     },
     "execution_count": 87,
     "metadata": {},
     "output_type": "execute_result"
    }
   ],
   "source": [
    "ypred_percep"
   ]
  },
  {
   "cell_type": "code",
   "execution_count": 88,
   "id": "4f7b9fdd",
   "metadata": {},
   "outputs": [
    {
     "data": {
      "text/plain": [
       "{0: 7781, 1: 52}"
      ]
     },
     "execution_count": 88,
     "metadata": {},
     "output_type": "execute_result"
    }
   ],
   "source": [
    "unique, counts = np.unique(ypred_percep, return_counts=True)\n",
    "dict(zip(unique, counts))"
   ]
  },
  {
   "cell_type": "code",
   "execution_count": 89,
   "id": "730fee0e",
   "metadata": {},
   "outputs": [
    {
     "data": {
      "text/plain": [
       "{0: 12829, 1: 355}"
      ]
     },
     "execution_count": 89,
     "metadata": {},
     "output_type": "execute_result"
    }
   ],
   "source": [
    "X_test_perceptron = Test.values\n",
    "Final_pred_perceptron = percep.predict(X_test_perceptron)\n",
    "unique, counts = np.unique(Final_pred, return_counts=True)\n",
    "dict(zip(unique, counts))"
   ]
  },
  {
   "cell_type": "code",
   "execution_count": 90,
   "id": "edfbac4a",
   "metadata": {},
   "outputs": [
    {
     "data": {
      "text/plain": [
       "array([1, 0, 0, ..., 0, 0, 0], dtype=int64)"
      ]
     },
     "execution_count": 90,
     "metadata": {},
     "output_type": "execute_result"
    }
   ],
   "source": [
    "Final_pred_perceptron"
   ]
  },
  {
   "cell_type": "markdown",
   "id": "1d7c498f",
   "metadata": {},
   "source": [
    "# 3).\n",
    "\n",
    "#### We will try with LightGBM , because LightGBM short for Light Gradient Boosting Machine, is a free and open source distributed gradient boosting framework which Decision Tree Technique for prediction."
   ]
  },
  {
   "cell_type": "markdown",
   "id": "ad0f663c",
   "metadata": {},
   "source": [
    "#### LGBM"
   ]
  },
  {
   "cell_type": "code",
   "execution_count": 91,
   "id": "e0875aea",
   "metadata": {},
   "outputs": [
    {
     "name": "stdout",
     "output_type": "stream",
     "text": [
      "Training score:  0.9768258426966292\n",
      "0.987813811014184\n"
     ]
    }
   ],
   "source": [
    "from lightgbm import LGBMClassifier\n",
    "lgb = LGBMClassifier()\n",
    "lgb.fit(X_train, y_train)\n",
    "scorex = lgb.score(X_train, y_train)\n",
    "print(\"Training score: \", scorex)\n",
    "\n",
    "ypred_lgb = lgb.predict(X_test)\n",
    "\n",
    "f1 = f1_score(y_test, ypred_lgb, average=None)\n",
    "print(f1[0])"
   ]
  },
  {
   "cell_type": "code",
   "execution_count": 92,
   "id": "5d3b4b56",
   "metadata": {},
   "outputs": [
    {
     "data": {
      "text/plain": [
       "{0: 12854, 1: 330}"
      ]
     },
     "execution_count": 92,
     "metadata": {},
     "output_type": "execute_result"
    }
   ],
   "source": [
    "X_test_lgb = Test.values\n",
    "Final_pred_lgb = lgb.predict(X_test_lgb)\n",
    "unique, counts = np.unique(Final_pred_lgb, return_counts=True)\n",
    "dict(zip(unique, counts))"
   ]
  },
  {
   "cell_type": "code",
   "execution_count": 93,
   "id": "86b64854",
   "metadata": {},
   "outputs": [
    {
     "data": {
      "text/plain": [
       "array([1, 0, 0, ..., 0, 0, 0], dtype=int64)"
      ]
     },
     "execution_count": 93,
     "metadata": {},
     "output_type": "execute_result"
    }
   ],
   "source": [
    "Final_pred_lgb"
   ]
  },
  {
   "cell_type": "markdown",
   "id": "e4255e9d",
   "metadata": {},
   "source": [
    "# 4). \n",
    "\n",
    "#### We will try with Nearest Centroid, Because Nearest Centroid (NC) Classifier is one of the most underrated and underutilised classifiers in Machine Learning. However, it is quite powerful and is highly efficient for certain Machine Learning classification tasks. The Nearest Centroid classifier is somewhat similar to the K-Nearest Neighbours classifier which can helpfull for our task."
   ]
  },
  {
   "cell_type": "markdown",
   "id": "4dc27e90",
   "metadata": {},
   "source": [
    "#### NearestCentroid"
   ]
  },
  {
   "cell_type": "code",
   "execution_count": 41,
   "id": "dd671cb6",
   "metadata": {},
   "outputs": [
    {
     "name": "stdout",
     "output_type": "stream",
     "text": [
      "Training score:  0.5578715526046987\n",
      "0.7027210307705348\n"
     ]
    }
   ],
   "source": [
    "from sklearn.neighbors import NearestCentroid\n",
    "nc = NearestCentroid()\n",
    "nc.fit(X_train, y_train)\n",
    "scorex_nc = nc.score(X_train, y_train)\n",
    "print(\"Training score: \", scorex_nc)\n",
    "\n",
    "ypred_nc = nc.predict(X_test)\n",
    "\n",
    "f1 = f1_score(y_test, ypred_nc, average=None)\n",
    "print(f1[0])"
   ]
  },
  {
   "cell_type": "markdown",
   "id": "43edfc4f",
   "metadata": {},
   "source": [
    "# 5).\n",
    "\n",
    "#### Trying with Gaussian Naive Bayes algorithm, which is a special type of NB algorithm. "
   ]
  },
  {
   "cell_type": "markdown",
   "id": "58df7f50",
   "metadata": {},
   "source": [
    "#### GaussianNB"
   ]
  },
  {
   "cell_type": "code",
   "execution_count": 96,
   "id": "b89ddc90",
   "metadata": {},
   "outputs": [
    {
     "name": "stdout",
     "output_type": "stream",
     "text": [
      "Training score:  0.9706013789581205\n",
      "0.9860409465567668\n"
     ]
    }
   ],
   "source": [
    "from sklearn.naive_bayes import GaussianNB\n",
    "gnb = GaussianNB()\n",
    "gnb.fit(X_train, y_train)\n",
    "scorex_gnb= gnb.score(X_train, y_train)\n",
    "print(\"Training score: \", scorex_gnb)\n",
    "\n",
    "ypred_gnb = gnb.predict(X_test)\n",
    "\n",
    "f1 = f1_score(y_test, ypred_gnb, average=None)\n",
    "print(f1[0])"
   ]
  },
  {
   "cell_type": "code",
   "execution_count": 45,
   "id": "cc0495f6",
   "metadata": {},
   "outputs": [
    {
     "name": "stdout",
     "output_type": "stream",
     "text": [
      "Fitting 5 folds for each of 14 candidates, totalling 70 fits\n"
     ]
    },
    {
     "name": "stderr",
     "output_type": "stream",
     "text": [
      "[Parallel(n_jobs=-1)]: Using backend LokyBackend with 4 concurrent workers.\n",
      "[Parallel(n_jobs=-1)]: Done  56 tasks      | elapsed:    3.5s\n",
      "[Parallel(n_jobs=-1)]: Done  70 out of  70 | elapsed:    3.5s finished\n"
     ]
    },
    {
     "name": "stdout",
     "output_type": "stream",
     "text": [
      " Results from Grid Search \n",
      "\n",
      " The best estimator across ALL searched params:\n",
      " GaussianNB(var_smoothing=1e-06)\n",
      "\n",
      " The best score across ALL searched params:\n",
      " 0.9737296126067306\n",
      "\n",
      " The best parameters across ALL searched params:\n",
      " {'var_smoothing': 1e-06}\n"
     ]
    }
   ],
   "source": [
    "from sklearn.naive_bayes import GaussianNB\n",
    "gnb = GaussianNB()\n",
    "param_grid_nb = {\n",
    "    'var_smoothing': np.logspace(0,-9, num=100)\n",
    "}\n",
    "GNB_grid = GridSearchCV(gnb, parameters, cv=5, verbose=1, n_jobs=-1)\n",
    "GNB_grid.fit(X_train, y_train)\n",
    "print(\" Results from Grid Search \" )\n",
    "print(\"\\n The best estimator across ALL searched params:\\n\",GNB_grid.best_estimator_)\n",
    "print(\"\\n The best score across ALL searched params:\\n\",GNB_grid.best_score_)\n",
    "print(\"\\n The best parameters across ALL searched params:\\n\",GNB_grid.best_params_)\n"
   ]
  },
  {
   "cell_type": "code",
   "execution_count": 99,
   "id": "86715b80",
   "metadata": {},
   "outputs": [
    {
     "name": "stdout",
     "output_type": "stream",
     "text": [
      "Training score:  0.9737614913176711\n",
      "0.987813811014184\n"
     ]
    }
   ],
   "source": [
    "from sklearn.naive_bayes import GaussianNB\n",
    "gnb = GaussianNB(var_smoothing=1e-06)\n",
    "gnb.fit(X_train, y_train)\n",
    "scorex_gnb= gnb.score(X_train, y_train)\n",
    "print(\"Training score: \", scorex_gnb)\n",
    "\n",
    "ypred_gnb = gnb.predict(X_test)\n",
    "\n",
    "f1 = f1_score(y_test, ypred_gnb, average=None)\n",
    "print(f1[0])"
   ]
  },
  {
   "cell_type": "code",
   "execution_count": 100,
   "id": "dbff2dcb",
   "metadata": {},
   "outputs": [
    {
     "data": {
      "text/plain": [
       "{0: 12865, 1: 319}"
      ]
     },
     "execution_count": 100,
     "metadata": {},
     "output_type": "execute_result"
    }
   ],
   "source": [
    "X_test_gnb = Test.values\n",
    "Final_pred_gnb = gnb.predict(X_test_gnb)\n",
    "unique, counts = np.unique(Final_pred_gnb, return_counts=True)\n",
    "dict(zip(unique, counts))"
   ]
  },
  {
   "cell_type": "code",
   "execution_count": 101,
   "id": "795a3006",
   "metadata": {},
   "outputs": [
    {
     "data": {
      "text/plain": [
       "array([1, 0, 0, ..., 0, 0, 0], dtype=int64)"
      ]
     },
     "execution_count": 101,
     "metadata": {},
     "output_type": "execute_result"
    }
   ],
   "source": [
    "Final_pred_gnb"
   ]
  },
  {
   "cell_type": "markdown",
   "id": "ec4fe2f3",
   "metadata": {},
   "source": [
    "# 6). \n",
    "\n",
    "#### Considering AdaBoost also, Because AdaBoost Classifier can be used to boost the performance of any machine learning algorithm. It is best used with weak learners. AdaBoost Classifier achieve accuracy just above random chance on a classification problem. The most suited and therefore most common algorithm used with AdaBoost are decision trees with one level which also uses level of Stump's ."
   ]
  },
  {
   "cell_type": "markdown",
   "id": "1a8ae224",
   "metadata": {},
   "source": [
    "#### AdaBoostClassifier"
   ]
  },
  {
   "cell_type": "code",
   "execution_count": 102,
   "id": "790888c7",
   "metadata": {},
   "outputs": [
    {
     "name": "stdout",
     "output_type": "stream",
     "text": [
      "Training score:  0.9746552604698672\n",
      "0.9880143827407111\n"
     ]
    }
   ],
   "source": [
    "from sklearn.ensemble import AdaBoostClassifier\n",
    "Ada = AdaBoostClassifier()\n",
    "Ada.fit(X_train, y_train)\n",
    "scorex_ada= Ada.score(X_train, y_train)\n",
    "print(\"Training score: \", scorex_ada)\n",
    "\n",
    "ypred_Ada = Ada.predict(X_test)\n",
    "\n",
    "f1 = f1_score(y_test, ypred_Ada, average=None)\n",
    "print(f1[0])"
   ]
  },
  {
   "cell_type": "code",
   "execution_count": 48,
   "id": "b1a567e5",
   "metadata": {},
   "outputs": [
    {
     "name": "stdout",
     "output_type": "stream",
     "text": [
      "Fitting 5 folds for each of 3 candidates, totalling 15 fits\n"
     ]
    },
    {
     "name": "stderr",
     "output_type": "stream",
     "text": [
      "[Parallel(n_jobs=-1)]: Using backend LokyBackend with 4 concurrent workers.\n",
      "[Parallel(n_jobs=-1)]: Done  15 out of  15 | elapsed:   35.6s finished\n"
     ]
    },
    {
     "name": "stdout",
     "output_type": "stream",
     "text": [
      " Results from Grid Search \n",
      "\n",
      " The best estimator across ALL searched params:\n",
      " AdaBoostClassifier(n_estimators=100)\n",
      "\n",
      " The best score across ALL searched params:\n",
      " 0.9746872224185097\n",
      "\n",
      " The best parameters across ALL searched params:\n",
      " {'n_estimators': 100}\n"
     ]
    }
   ],
   "source": [
    "from sklearn.ensemble import AdaBoostClassifier\n",
    "Ada = AdaBoostClassifier()\n",
    "params = {'n_estimators': [100,200,300]}\n",
    "Ada_grid = GridSearchCV(Ada, params, cv=5, verbose=1, n_jobs=-1)\n",
    "Ada_grid.fit(X_train, y_train)\n",
    "print(\" Results from Grid Search \" )\n",
    "print(\"\\n The best estimator across ALL searched params:\\n\",Ada_grid.best_estimator_)\n",
    "print(\"\\n The best score across ALL searched params:\\n\",Ada_grid.best_score_)\n",
    "print(\"\\n The best parameters across ALL searched params:\\n\",Ada_grid.best_params_)"
   ]
  },
  {
   "cell_type": "code",
   "execution_count": 126,
   "id": "f1be034c",
   "metadata": {},
   "outputs": [
    {
     "name": "stdout",
     "output_type": "stream",
     "text": [
      "Training score:  0.9747510214504597\n",
      "0.9880817631000731\n"
     ]
    }
   ],
   "source": [
    "from sklearn.ensemble import AdaBoostClassifier\n",
    "Ada_tuned = AdaBoostClassifier(n_estimators=100)\n",
    "Ada_tuned.fit(X_train, y_train)\n",
    "scorex_ada_tuned= Ada_tuned.score(X_train, y_train)\n",
    "print(\"Training score: \", scorex_ada_tuned)\n",
    "\n",
    "ypred_Ada_tuned = Ada_tuned.predict(X_test)\n",
    "\n",
    "f1 = f1_score(y_test, ypred_Ada_tuned, average=None)\n",
    "print(f1[0])"
   ]
  },
  {
   "cell_type": "code",
   "execution_count": 128,
   "id": "0eeab87e",
   "metadata": {},
   "outputs": [
    {
     "data": {
      "text/plain": [
       "{0: 12862, 1: 322}"
      ]
     },
     "execution_count": 128,
     "metadata": {},
     "output_type": "execute_result"
    }
   ],
   "source": [
    "X_test_Ada_tuned = Test.values\n",
    "Final_pred_Ada_tuned = Ada_tuned.predict(X_test_Ada_tuned)\n",
    "unique, counts = np.unique(Final_pred_Ada_tuned, return_counts=True)\n",
    "dict(zip(unique, counts))"
   ]
  },
  {
   "cell_type": "code",
   "execution_count": 129,
   "id": "49879b2c",
   "metadata": {},
   "outputs": [
    {
     "data": {
      "text/plain": [
       "array([0, 0, 0, ..., 0, 0, 0], dtype=int64)"
      ]
     },
     "execution_count": 129,
     "metadata": {},
     "output_type": "execute_result"
    }
   ],
   "source": [
    "Final_pred_Ada_tuned"
   ]
  },
  {
   "cell_type": "markdown",
   "id": "16166253",
   "metadata": {},
   "source": [
    "# 7). \n",
    "\n",
    "#### Trying with most used Decision Tree based algorithm i.e RandomForest, Because its a bagging ensemble technique which uses voting classifier solution from various Decision Tree's which is good idea for our task."
   ]
  },
  {
   "cell_type": "markdown",
   "id": "075a746e",
   "metadata": {},
   "source": [
    "#### RandomForestClassifier"
   ]
  },
  {
   "cell_type": "code",
   "execution_count": 109,
   "id": "670a4bf7",
   "metadata": {},
   "outputs": [
    {
     "name": "stdout",
     "output_type": "stream",
     "text": [
      "Training score:  0.999361593462717\n",
      "0.9877447715465565\n"
     ]
    }
   ],
   "source": [
    "from sklearn.ensemble import RandomForestClassifier\n",
    "randomforest = RandomForestClassifier()\n",
    "randomforest.fit(X_train, y_train)\n",
    "scorex_randomforest= randomforest.score(X_train, y_train)\n",
    "print(\"Training score: \", scorex_randomforest)\n",
    "\n",
    "ypred_randomforest = randomforest.predict(X_test)\n",
    "\n",
    "f1 = f1_score(y_test, ypred_randomforest, average=None)\n",
    "print(f1[0])"
   ]
  },
  {
   "cell_type": "code",
   "execution_count": 59,
   "id": "d54c3800",
   "metadata": {},
   "outputs": [
    {
     "name": "stdout",
     "output_type": "stream",
     "text": [
      "Fitting 3 folds for each of 1728 candidates, totalling 5184 fits\n"
     ]
    },
    {
     "name": "stderr",
     "output_type": "stream",
     "text": [
      "[Parallel(n_jobs=-1)]: Using backend LokyBackend with 4 concurrent workers.\n",
      "[Parallel(n_jobs=-1)]: Done  42 tasks      | elapsed:   20.8s\n",
      "[Parallel(n_jobs=-1)]: Done 192 tasks      | elapsed:  1.5min\n",
      "[Parallel(n_jobs=-1)]: Done 442 tasks      | elapsed:  3.1min\n",
      "[Parallel(n_jobs=-1)]: Done 792 tasks      | elapsed:  5.4min\n",
      "[Parallel(n_jobs=-1)]: Done 1242 tasks      | elapsed:  8.4min\n",
      "[Parallel(n_jobs=-1)]: Done 1792 tasks      | elapsed: 14.9min\n",
      "[Parallel(n_jobs=-1)]: Done 2442 tasks      | elapsed: 22.8min\n",
      "[Parallel(n_jobs=-1)]: Done 3192 tasks      | elapsed: 33.8min\n",
      "[Parallel(n_jobs=-1)]: Done 4042 tasks      | elapsed: 44.6min\n",
      "[Parallel(n_jobs=-1)]: Done 4992 tasks      | elapsed: 53.6min\n",
      "[Parallel(n_jobs=-1)]: Done 5184 out of 5184 | elapsed: 55.5min finished\n"
     ]
    },
    {
     "name": "stdout",
     "output_type": "stream",
     "text": [
      " Results from Grid Search \n",
      "\n",
      " The best estimator across ALL searched params:\n",
      " RandomForestClassifier(max_depth=40, max_features='sqrt', min_samples_split=10,\n",
      "                       n_estimators=20)\n",
      "\n",
      " The best score across ALL searched params:\n",
      " 0.9742084135419814\n",
      "\n",
      " The best parameters across ALL searched params:\n",
      " {'bootstrap': True, 'max_depth': 40, 'max_features': 'sqrt', 'min_samples_leaf': 1, 'min_samples_split': 10, 'n_estimators': 20}\n"
     ]
    }
   ],
   "source": [
    "from sklearn.ensemble import RandomForestClassifier\n",
    "randomforest = RandomForestClassifier()\n",
    "\n",
    "n_estimators = [5,20,50,100] \n",
    "max_features = ['auto', 'sqrt'] \n",
    "max_depth = [int(x) for x in np.linspace(10, 120, num = 12)] \n",
    "min_samples_split = [2, 6, 10] \n",
    "min_samples_leaf = [1, 3, 4] \n",
    "bootstrap = [True, False] \n",
    "\n",
    "random_grid = {'n_estimators': n_estimators,\n",
    "\n",
    "'max_features': max_features,\n",
    "\n",
    "'max_depth': max_depth,\n",
    "\n",
    "'min_samples_split': min_samples_split,\n",
    "\n",
    "'min_samples_leaf': min_samples_leaf,\n",
    "\n",
    "'bootstrap': bootstrap}\n",
    "\n",
    "\n",
    "rf_random = GridSearchCV(randomforest, random_grid, cv = 3, \n",
    "                         verbose=1, n_jobs = -1)\n",
    "rf_random.fit(X_train, y_train)\n",
    "print(\" Results from Grid Search \" )\n",
    "print(\"\\n The best estimator across ALL searched params:\\n\",rf_random.best_estimator_)\n",
    "print(\"\\n The best score across ALL searched params:\\n\",rf_random.best_score_)\n",
    "print(\"\\n The best parameters across ALL searched params:\\n\",rf_random.best_params_)"
   ]
  },
  {
   "cell_type": "code",
   "execution_count": 113,
   "id": "23790309",
   "metadata": {},
   "outputs": [
    {
     "name": "stdout",
     "output_type": "stream",
     "text": [
      "Training score:  0.9765066394279878\n",
      "0.9880143827407111\n"
     ]
    }
   ],
   "source": [
    "from sklearn.ensemble import RandomForestClassifier\n",
    "randomforest_tuned = RandomForestClassifier(max_depth=40, max_features='sqrt', min_samples_split=10,\n",
    "                       n_estimators=20)\n",
    "randomforest_tuned.fit(X_train, y_train)\n",
    "scorex_randomforest_tuned= randomforest_tuned.score(X_train, y_train)\n",
    "print(\"Training score: \", scorex_randomforest_tuned)\n",
    "\n",
    "ypred_randomforest_tuned = randomforest_tuned.predict(X_test)\n",
    "\n",
    "f1 = f1_score(y_test, ypred_randomforest_tuned, average=None)\n",
    "print(f1[0])"
   ]
  },
  {
   "cell_type": "code",
   "execution_count": 114,
   "id": "1b3c44a3",
   "metadata": {},
   "outputs": [
    {
     "data": {
      "text/plain": [
       "{0: 12863, 1: 321}"
      ]
     },
     "execution_count": 114,
     "metadata": {},
     "output_type": "execute_result"
    }
   ],
   "source": [
    "X_test_random = Test.values\n",
    "Final_pred_randomforest = randomforest_tuned.predict(X_test_random)\n",
    "unique, counts = np.unique(Final_pred_randomforest, return_counts=True)\n",
    "dict(zip(unique, counts))"
   ]
  },
  {
   "cell_type": "code",
   "execution_count": 115,
   "id": "bf12fce4",
   "metadata": {},
   "outputs": [
    {
     "data": {
      "text/plain": [
       "array([1, 0, 0, ..., 0, 0, 0], dtype=int64)"
      ]
     },
     "execution_count": 115,
     "metadata": {},
     "output_type": "execute_result"
    }
   ],
   "source": [
    "Final_pred_randomforest"
   ]
  },
  {
   "cell_type": "code",
   "execution_count": 125,
   "id": "853136fa",
   "metadata": {},
   "outputs": [
    {
     "name": "stdout",
     "output_type": "stream",
     "text": [
      "+------------------------------+----------------+----------+-------+------------------------------+\n",
      "|            Model             | Training Score | F1_Score |       | Top_Ranked_Model_of_F1_Score |\n",
      "+------------------------------+----------------+----------+-------+------------------------------+\n",
      "|   Tuned-CatBoostClassifier   |    0.974463    | 0.988020 |       |   Tuned-AdaBoostClassifier   |\n",
      "|          Perceptron          |    0.951832    | 0.976135 |       |   Tuned-CatBoostClassifier   |\n",
      "|        LGBMClassifier        |    0.976825    | 0.987813 |       | Tuned-RandomForestClassifier |\n",
      "|       NearestCentroid        |    0.557871    | 0.702721 |       |      AdaBoostClassifier      |\n",
      "|          GaussianNB          |    0.970601    | 0.986040 |       |        LGBMClassifier        |\n",
      "|       Tuned-GaussianNB       |    0.973761    | 0.987813 |       |       Tuned-GaussianNB       |\n",
      "|      AdaBoostClassifier      |    0.974655    | 0.988014 |       |    RandomForestClassifier    |\n",
      "|   Tuned-AdaBoostClassifier   |    0.974751    | 0.988081 |       |          Perceptron          |\n",
      "|    RandomForestClassifier    |    0.999361    | 0.987744 |       |          GaussianNB          |\n",
      "| Tuned-RandomForestClassifier |    0.976506    | 0.988014 |       |       NearestCentroid        |\n",
      "+------------------------------+----------------+----------+-------+------------------------------+\n"
     ]
    }
   ],
   "source": [
    "from prettytable import PrettyTable\n",
    "  \n",
    "myTable = PrettyTable([\"Model\", \"Training Score\", \"F1_Score\",\"   \", \"Top_Ranked_Model_of_F1_Score\"])\n",
    "  \n",
    "\n",
    "myTable.add_row([\"Tuned-CatBoostClassifier\", \"0.974463\", \"0.988020\",\"     \", \"Tuned-AdaBoostClassifier\"])\n",
    "myTable.add_row([\"Perceptron\", \"0.951832\", \"0.976135\",\"     \", \"Tuned-CatBoostClassifier\"])\n",
    "myTable.add_row([\"LGBMClassifier\", \"0.976825\", \"0.987813\",\"     \", \"Tuned-RandomForestClassifier\"])\n",
    "myTable.add_row([\"NearestCentroid\", \"0.557871\", \"0.702721\",\"     \", \"AdaBoostClassifier\"])\n",
    "myTable.add_row([\"GaussianNB\", \"0.970601\", \"0.986040\",\"     \", \"LGBMClassifier\"])\n",
    "myTable.add_row([\"Tuned-GaussianNB\", \"0.973761\", \"0.987813\",\"     \", \"Tuned-GaussianNB\"])\n",
    "myTable.add_row([\"AdaBoostClassifier\", \"0.974655\", \"0.988014\",\"     \", \"RandomForestClassifier\"])\n",
    "myTable.add_row([\"Tuned-AdaBoostClassifier\", \"0.974751\", \"0.988081\",\"     \", \"Perceptron\"])\n",
    "myTable.add_row([\"RandomForestClassifier\", \"0.999361\", \"0.987744\", \"     \",\"GaussianNB\"])\n",
    "myTable.add_row([\"Tuned-RandomForestClassifier\", \"0.976506\", \"0.988014\", \"     \", \"NearestCentroid\"])\n",
    "  \n",
    "print(myTable)"
   ]
  },
  {
   "cell_type": "markdown",
   "id": "8c76a6b5",
   "metadata": {},
   "source": [
    "## Our Top F1 Scoring Model is Tuned-AdaBoostClassifier, So we will that model for prediction on Submission file"
   ]
  },
  {
   "cell_type": "code",
   "execution_count": 130,
   "id": "f970e711",
   "metadata": {},
   "outputs": [],
   "source": [
    "import pickle\n",
    "with open('Final_model_pkl', 'wb') as files:\n",
    "    pickle.dump(Ada_tuned, files)"
   ]
  },
  {
   "cell_type": "code",
   "execution_count": 1,
   "id": "b3dd64d1",
   "metadata": {},
   "outputs": [],
   "source": [
    "import pickle\n",
    "with open('Final_model_pkl' , 'rb') as f:\n",
    "    model = pickle.load(f)"
   ]
  },
  {
   "cell_type": "code",
   "execution_count": 7,
   "id": "3b854131",
   "metadata": {},
   "outputs": [
    {
     "data": {
      "text/plain": [
       "{0: 12862, 1: 322}"
      ]
     },
     "execution_count": 7,
     "metadata": {},
     "output_type": "execute_result"
    }
   ],
   "source": [
    "Final_predictions = model.predict(Test.values)\n",
    "unique, counts = np.unique(Final_predictions, return_counts=True)\n",
    "dict(zip(unique, counts))"
   ]
  },
  {
   "cell_type": "code",
   "execution_count": 8,
   "id": "00cd9118",
   "metadata": {},
   "outputs": [
    {
     "data": {
      "text/plain": [
       "(13184,)"
      ]
     },
     "execution_count": 8,
     "metadata": {},
     "output_type": "execute_result"
    }
   ],
   "source": [
    "Final_predictions.shape"
   ]
  },
  {
   "cell_type": "code",
   "execution_count": 9,
   "id": "38bfc7be",
   "metadata": {
    "scrolled": true
   },
   "outputs": [
    {
     "data": {
      "text/plain": [
       "(13184, 2)"
      ]
     },
     "execution_count": 9,
     "metadata": {},
     "output_type": "execute_result"
    }
   ],
   "source": [
    "Submission.shape"
   ]
  },
  {
   "cell_type": "code",
   "execution_count": 10,
   "id": "2e6eb0ef",
   "metadata": {},
   "outputs": [
    {
     "data": {
      "text/html": [
       "<div>\n",
       "<style scoped>\n",
       "    .dataframe tbody tr th:only-of-type {\n",
       "        vertical-align: middle;\n",
       "    }\n",
       "\n",
       "    .dataframe tbody tr th {\n",
       "        vertical-align: top;\n",
       "    }\n",
       "\n",
       "    .dataframe thead th {\n",
       "        text-align: right;\n",
       "    }\n",
       "</style>\n",
       "<table border=\"1\" class=\"dataframe\">\n",
       "  <thead>\n",
       "    <tr style=\"text-align: right;\">\n",
       "      <th></th>\n",
       "      <th>id</th>\n",
       "      <th>buy</th>\n",
       "    </tr>\n",
       "  </thead>\n",
       "  <tbody>\n",
       "    <tr>\n",
       "      <th>0</th>\n",
       "      <td>39162</td>\n",
       "      <td>1</td>\n",
       "    </tr>\n",
       "    <tr>\n",
       "      <th>1</th>\n",
       "      <td>39163</td>\n",
       "      <td>1</td>\n",
       "    </tr>\n",
       "  </tbody>\n",
       "</table>\n",
       "</div>"
      ],
      "text/plain": [
       "      id  buy\n",
       "0  39162    1\n",
       "1  39163    1"
      ]
     },
     "execution_count": 10,
     "metadata": {},
     "output_type": "execute_result"
    }
   ],
   "source": [
    "Submission.head(2)"
   ]
  },
  {
   "cell_type": "markdown",
   "id": "f99a5d63",
   "metadata": {},
   "source": [
    "### In \"buy\" Column 0 indicating if the user will buy the product in next 3 months And 1  indicating if the user will not buy the product in next 3 months, according to explaination of column."
   ]
  },
  {
   "cell_type": "code",
   "execution_count": 11,
   "id": "13faf5e0",
   "metadata": {},
   "outputs": [],
   "source": [
    "Submission['buy'] = Final_predictions"
   ]
  },
  {
   "cell_type": "code",
   "execution_count": 13,
   "id": "122d4d5b",
   "metadata": {},
   "outputs": [],
   "source": [
    "Submission.to_csv(\"Final_Submission.csv\", index=False)"
   ]
  },
  {
   "cell_type": "code",
   "execution_count": 14,
   "id": "4cc3ded7",
   "metadata": {},
   "outputs": [
    {
     "name": "stdout",
     "output_type": "stream",
     "text": [
      "0    12862\n",
      "1      322\n",
      "Name: buy, dtype: int64\n"
     ]
    },
    {
     "data": {
      "text/html": [
       "<div>\n",
       "<style scoped>\n",
       "    .dataframe tbody tr th:only-of-type {\n",
       "        vertical-align: middle;\n",
       "    }\n",
       "\n",
       "    .dataframe tbody tr th {\n",
       "        vertical-align: top;\n",
       "    }\n",
       "\n",
       "    .dataframe thead th {\n",
       "        text-align: right;\n",
       "    }\n",
       "</style>\n",
       "<table border=\"1\" class=\"dataframe\">\n",
       "  <thead>\n",
       "    <tr style=\"text-align: right;\">\n",
       "      <th></th>\n",
       "      <th>id</th>\n",
       "      <th>buy</th>\n",
       "    </tr>\n",
       "  </thead>\n",
       "  <tbody>\n",
       "    <tr>\n",
       "      <th>0</th>\n",
       "      <td>39162</td>\n",
       "      <td>0</td>\n",
       "    </tr>\n",
       "    <tr>\n",
       "      <th>1</th>\n",
       "      <td>39163</td>\n",
       "      <td>0</td>\n",
       "    </tr>\n",
       "    <tr>\n",
       "      <th>2</th>\n",
       "      <td>39164</td>\n",
       "      <td>0</td>\n",
       "    </tr>\n",
       "    <tr>\n",
       "      <th>3</th>\n",
       "      <td>39165</td>\n",
       "      <td>0</td>\n",
       "    </tr>\n",
       "    <tr>\n",
       "      <th>4</th>\n",
       "      <td>39166</td>\n",
       "      <td>0</td>\n",
       "    </tr>\n",
       "  </tbody>\n",
       "</table>\n",
       "</div>"
      ],
      "text/plain": [
       "      id  buy\n",
       "0  39162    0\n",
       "1  39163    0\n",
       "2  39164    0\n",
       "3  39165    0\n",
       "4  39166    0"
      ]
     },
     "execution_count": 14,
     "metadata": {},
     "output_type": "execute_result"
    }
   ],
   "source": [
    "import pandas as pd\n",
    "sub = pd.read_csv(\"Final_Submission.csv\")\n",
    "print(sub.buy.value_counts())\n",
    "sub.head(5)                 "
   ]
  },
  {
   "cell_type": "code",
   "execution_count": 15,
   "id": "dc3c1047",
   "metadata": {},
   "outputs": [
    {
     "data": {
      "text/plain": [
       "0    12862\n",
       "1      322\n",
       "Name: buy, dtype: int64"
      ]
     },
     "execution_count": 15,
     "metadata": {},
     "output_type": "execute_result"
    }
   ],
   "source": [
    "sub.buy.value_counts()"
   ]
  },
  {
   "cell_type": "markdown",
   "id": "d6f7214c",
   "metadata": {},
   "source": [
    "#### 322 user's whose ID's is given in Final_Submission.csv file will not buy product in next 3 months.\n",
    "\n",
    "#### 12862 user's whose ID's also given in Final_Submission.csv file will buy product in next 3 months"
   ]
  },
  {
   "cell_type": "markdown",
   "id": "52309548",
   "metadata": {},
   "source": [
    "# Note :- \n",
    "\n",
    "\n",
    "## A). Intentionally deleted some of the hyper-parameter fine tuning code and fine tuned code  for various model's , Because they were giving worst result which is not making any sense and also making code .ipynb file lengthy. So, all code's are complete I didn't forgot any of the hyper-parameter tuning step for Model's. \n",
    "\n",
    "\n",
    "\n",
    "\n",
    "\n",
    "\n",
    "#   ...........................................Thank You......................................................."
   ]
  },
  {
   "cell_type": "code",
   "execution_count": null,
   "id": "7b95785e",
   "metadata": {},
   "outputs": [],
   "source": []
  }
 ],
 "metadata": {
  "kernelspec": {
   "display_name": "Python 3 (ipykernel)",
   "language": "python",
   "name": "python3"
  },
  "language_info": {
   "codemirror_mode": {
    "name": "ipython",
    "version": 3
   },
   "file_extension": ".py",
   "mimetype": "text/x-python",
   "name": "python",
   "nbconvert_exporter": "python",
   "pygments_lexer": "ipython3",
   "version": "3.7.13"
  }
 },
 "nbformat": 4,
 "nbformat_minor": 5
}
